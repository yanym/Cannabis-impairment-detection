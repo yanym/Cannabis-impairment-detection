{
  "nbformat": 4,
  "nbformat_minor": 0,
  "metadata": {
    "colab": {
      "name": "Canabis.ipynb",
      "version": "0.3.2",
      "provenance": [],
      "collapsed_sections": []
    },
    "kernelspec": {
      "name": "python3",
      "display_name": "Python 3"
    },
    "accelerator": "GPU"
  },
  "cells": [
    {
      "metadata": {
        "id": "HCeh6vHFhRvU",
        "colab_type": "text"
      },
      "cell_type": "markdown",
      "source": [
        "***Notice: In all code in this jupyter, all y_labels are not np.array. Do y_labels = np.asarray(y_labels) if need***"
      ]
    },
    {
      "metadata": {
        "id": "TGvwLhF09Vi3",
        "colab_type": "code",
        "colab": {
          "base_uri": "https://localhost:8080/",
          "height": 1037
        },
        "outputId": "b3fdb728-d61d-40f7-e9b6-1ee312cb342c"
      },
      "cell_type": "code",
      "source": [
        "# -*- coding: utf-8 -*-\n",
        "\n",
        "import scipy.io as sio\n",
        "import numpy as np\n",
        "import matplotlib.pyplot as plt\n",
        "\n",
        "from sklearn import svm\n",
        "from sklearn.model_selection import cross_validate\n",
        "from sklearn.metrics.scorer import make_scorer\n",
        "from sklearn.metrics import confusion_matrix\n",
        "from sklearn.datasets import make_classification\n",
        "\n",
        "from sklearn.ensemble import RandomForestClassifier\n",
        "#import h5py \n",
        "\n",
        "#f = h5py.File(dataFile1,'r') \n",
        "#data = f.get('data/variable1') \n",
        "#data = np.array(data) # For converting to numpy array\n",
        "# ==== ==== ==== ==== Load and cut 2800 ==== ==== ==== ==== \n",
        "dataDrug1 = sio.loadmat('drug1.mat')            # 28 \n",
        "dataPlacebo = sio.loadmat('placebo.mat')    #33\n",
        "dataDrug1_2 = sio.loadmat('drug1_2.mat')    #48\n",
        "\n",
        "listDrug1ReadDict = dataDrug1['drug1']\n",
        "listPlaceboReadDict = dataPlacebo['placebo']\n",
        "listDrug1_2ReadDict = dataDrug1_2['drug1_2']\n",
        "\n",
        "listDrug1ReadDict = listDrug1ReadDict.transpose()\n",
        "listPlaceboReadDict = listPlaceboReadDict.transpose()\n",
        "listDrug1_2ReadDict = listDrug1_2ReadDict.transpose()\n",
        "\n",
        "listDrug1 = []\n",
        "listPlacebo = []\n",
        "listDrug1_2 = []\n",
        "\n",
        "\n",
        "for i in range(28):\n",
        "    listDrug1.append(listDrug1ReadDict[i][0][0])\n",
        "for i in range(28):\n",
        "    listDrug1[i] = listDrug1[i][:2800, : ,]     # Abandon all points after 2800 for consistent data\n",
        "    \n",
        "for i in range(33):\n",
        "    listPlacebo.append(listPlaceboReadDict[i][0][0])\n",
        "for i in range(33):\n",
        "    listPlacebo[i] = listPlacebo[i][:2800, : ,] # Same as above\n",
        "    \n",
        "    \n",
        "for i in range(48):\n",
        "    listDrug1_2.append(listDrug1_2ReadDict[i][0][0])\n",
        "for i in range(48):\n",
        "    listDrug1_2[i] = listDrug1_2[i][:2800, : ,] # Same as above\n",
        "# ==== ==== ==== ==== Plot ==== ==== ==== ==== \n",
        "x = []\n",
        "for i in range(2800):\n",
        "    x.append(i)\n",
        "# Drug\n",
        "dg = listDrug1[0][:,:, 0]\n",
        "a1 = dg[:, 0]\n",
        "a2 = dg[:, 1]\n",
        "a3 = dg[:, 2]\n",
        "plt.plot(x, a1, color = 'red', label = '1st')\n",
        "plt.plot(x, a2,color = 'blue', label = '2nd')\n",
        "plt.plot(x, a3, color = 'green', label = '3rd')\n",
        "plt.title('Drug1_Post')\n",
        "plt.legend()\n",
        "plt.show()\n",
        "# Placebo\n",
        "pl = listPlacebo[0][:,:, 0]\n",
        "b1 = pl[:, 0]\n",
        "b2 = pl[:, 1]\n",
        "b3 = pl[:, 2]\n",
        "plt.plot(x, b1, color = 'red', label = '1st')\n",
        "plt.plot(x, b2,color = 'blue', label = '2nd')\n",
        "plt.plot(x, b3, color = 'green', label = '3rd')\n",
        "plt.title('Placebo_Post')\n",
        "plt.legend()\n",
        "plt.show()\n",
        "# ==== ==== ==== ==== Focus on 1st and 2nd for drug and placebo ==== ==== ==== ==== \n",
        "listDrug1_1st = []\n",
        "for i in range(28):\n",
        "    listDrug1_1st.append(listDrug1[i][:, 0,])\n",
        "    \n",
        "listDrug1_2nd = []\n",
        "for i in range(28):\n",
        "    listDrug1_2nd.append(listDrug1[i][:, 0,])\n",
        "    \n",
        "listPlacebo_1st = []\n",
        "for i in range(33):\n",
        "    listPlacebo_1st.append(listPlacebo[i][:, 0,])\n",
        "    \n",
        "listPlacebo_2nd  = []\n",
        "for i in range(33):\n",
        "    listPlacebo_2nd.append(listPlacebo[i][:, 0,])\n",
        "\n",
        "\n",
        "listDrug1_2_1st = []\n",
        "for i in range(48):\n",
        "    listDrug1_2_1st.append(listDrug1_2[i][:, 0,])\n",
        "    \n",
        "listDrug1_2_2nd = []\n",
        "for i in range(48):\n",
        "    listDrug1_2_2nd.append(listDrug1_2[i][:, 0,])\n",
        "    \n",
        "# ==== ==== ==== ==== P coeff & vetorized ==== ==== ==== ==== \n",
        "\n",
        "# Return Pearson product-moment correlation coefficients.\n",
        "# listDrug1_1st_ P Correalation\n",
        "listDrug1_1st_Corr = []\n",
        "Drug1_1st_Corr_Vetorized = []\n",
        "for ID in range(28):\n",
        "    tempCorrMatrix = np.identity(20)\n",
        "    tempVetorized = []\n",
        "    for i in range(20):\n",
        "        count = 0\n",
        "        for j in range(20):\n",
        "            if i == j :\n",
        "                continue\n",
        "            temp = np.corrcoef(listDrug1_1st[ID][:,i],  listDrug1_1st[ID][:,j])\n",
        "            tempCorrMatrix[i][j] = temp[0][1]\n",
        "            if count < i:\n",
        "                tempVetorized.append(temp[0][1])\n",
        "                count += 1\n",
        "    Drug1_1st_Corr_Vetorized.append(tempVetorized)\n",
        "    listDrug1_1st_Corr.append(tempCorrMatrix)\n",
        "    \n",
        "# listDrug1_2nd_P Correalation\n",
        "listDrug1_2nd_Corr = []\n",
        "Drug1_2nd_Corr_Vetorized = []\n",
        "for ID in range(28):\n",
        "    tempCorrMatrix = np.identity(20)\n",
        "    tempVetorized = []\n",
        "    for i in range(20):\n",
        "        count = 0\n",
        "        for j in range(20):\n",
        "            if i == j :\n",
        "                continue\n",
        "            temp = np.corrcoef(listDrug1_2nd[ID][:,i],  listDrug1_2nd[ID][:,j])\n",
        "            tempCorrMatrix[i][j] = temp[0][1]\n",
        "            if count < i:\n",
        "                tempVetorized.append(temp[0][1])\n",
        "                count += 1\n",
        "    Drug1_2nd_Corr_Vetorized.append(tempVetorized)\n",
        "    listDrug1_2nd_Corr.append(tempCorrMatrix)\n",
        "    \n",
        "    \n",
        "# listPlacebo_1st_P Correalation\n",
        "listPlacebo_1st_Corr = []\n",
        "Placebo_1st_Corr_Vetorized = []\n",
        "for ID in range(33):\n",
        "    tempCorrMatrix = np.identity(20)\n",
        "    tempVetorized = []\n",
        "    for i in range(20):\n",
        "        count = 0\n",
        "        for j in range(20):\n",
        "            if i == j :\n",
        "                continue\n",
        "            temp = np.corrcoef(listPlacebo_1st[ID][:,i],  listPlacebo_1st[ID][:,j])\n",
        "            tempCorrMatrix[i][j] = temp[0][1]\n",
        "            if count < i:\n",
        "                tempVetorized.append(temp[0][1])\n",
        "                count += 1\n",
        "    Placebo_1st_Corr_Vetorized.append(tempVetorized)\n",
        "    listPlacebo_1st_Corr.append(tempCorrMatrix)\n",
        "\n",
        "\n",
        "# listPlacebo_2nd_P Correalation\n",
        "listPlacebo_2nd_Corr = []\n",
        "Placebo_2nd_Corr_Vetorized = []\n",
        "for ID in range(33):\n",
        "    tempCorrMatrix = np.identity(20)\n",
        "    tempVetorized = []\n",
        "    for i in range(20):\n",
        "        count = 0\n",
        "        for j in range(20):\n",
        "            if i == j :\n",
        "                continue\n",
        "            temp = np.corrcoef(listPlacebo_2nd[ID][:,i],  listPlacebo_2nd[ID][:,j])\n",
        "            tempCorrMatrix[i][j] = temp[0][1]\n",
        "            if count < i:\n",
        "                tempVetorized.append(temp[0][1])\n",
        "                count += 1\n",
        "    Placebo_2nd_Corr_Vetorized.append(tempVetorized)\n",
        "    listPlacebo_2nd_Corr.append(tempCorrMatrix)\n",
        "\n",
        "# listDrug1_2_1st_ P Correalation\n",
        "listDrug1_2_1st_Corr = []\n",
        "Drug1_2_1st_Corr_Vetorized = []\n",
        "for ID in range(48):\n",
        "    tempCorrMatrix = np.identity(20)\n",
        "    tempVetorized = []\n",
        "    for i in range(20):\n",
        "        count = 0\n",
        "        for j in range(20):\n",
        "            if i == j :\n",
        "                continue\n",
        "            temp = np.corrcoef(listDrug1_2_1st[ID][:,i],  listDrug1_2_1st[ID][:,j])\n",
        "            tempCorrMatrix[i][j] = temp[0][1]\n",
        "            if count < i:\n",
        "                tempVetorized.append(temp[0][1])\n",
        "                count += 1\n",
        "    Drug1_2_1st_Corr_Vetorized.append(tempVetorized)\n",
        "    listDrug1_2_1st_Corr.append(tempCorrMatrix)\n",
        "    \n",
        "# listDrug1_2_2nd_P Correalation\n",
        "listDrug1_2_2nd_Corr = []\n",
        "Drug1_2_2nd_Corr_Vetorized = []\n",
        "for ID in range(48):\n",
        "    tempCorrMatrix = np.identity(20)\n",
        "    tempVetorized = []\n",
        "    for i in range(20):\n",
        "        count = 0\n",
        "        for j in range(20):\n",
        "            if i == j :\n",
        "                continue\n",
        "            temp = np.corrcoef(listDrug1_2_2nd[ID][:,i],  listDrug1_2_2nd[ID][:,j])\n",
        "            tempCorrMatrix[i][j] = temp[0][1]\n",
        "            if count < i:\n",
        "                tempVetorized.append(temp[0][1])\n",
        "                count += 1\n",
        "    Drug1_2_2nd_Corr_Vetorized.append(tempVetorized)\n",
        "    listDrug1_2_2nd_Corr.append(tempCorrMatrix)\n",
        "    \n",
        "# ==== ==== ==== ==== Plot ==== ==== ==== ==== \n",
        "x = []\n",
        "for kk in range(190):\n",
        "    x.append(kk)\n",
        "plt.plot(x, Drug1_1st_Corr_Vetorized[0], color = 'red', label = '1st')\n",
        "plt.plot(x, Placebo_1st_Corr_Vetorized[0],color = 'blue', label = '2nd')\n",
        "plt.legend()\n",
        "plt.show()\n",
        "\n"
      ],
      "execution_count": 65,
      "outputs": [
        {
          "output_type": "display_data",
          "data": {
            "image/png": "[encoded data removed]",
            "text/plain": [
              "<matplotlib.figure.Figure at 0x7efe367919e8>"
            ]
          },
          "metadata": {
            "tags": []
          }
        },
        {
          "output_type": "display_data",
          "data": {
            "image/png": "[encoded data removed]",
            "text/plain": [
              "<matplotlib.figure.Figure at 0x7efdcf324ef0>"
            ]
          },
          "metadata": {
            "tags": []
          }
        },
        {
          "output_type": "display_data",
          "data": {
            "image/png": "[encoded data removed]",
            "text/plain": [
              "<matplotlib.figure.Figure at 0x7efdd28b18d0>"
            ]
          },
          "metadata": {
            "tags": []
          }
        }
      ]
    },
    {
      "metadata": {
        "id": "FjtJO71AO25F",
        "colab_type": "code",
        "colab": {}
      },
      "cell_type": "code",
      "source": [
        "permutation = np.random.permutation(61)\n",
        "\n",
        "y_d1_pl = np.asarray(y_d1_pl)\n",
        "X_d1_pl = X_d1_pl[permutation, :]\n",
        "y_d1_pl = y_d1_pl[permutation]"
      ],
      "execution_count": 0,
      "outputs": []
    },
    {
      "metadata": {
        "id": "qqEZbFMB-Z2F",
        "colab_type": "code",
        "colab": {
          "base_uri": "https://localhost:8080/",
          "height": 153
        },
        "outputId": "b0efbba1-3548-4ae6-f274-0e54cead9f1e"
      },
      "cell_type": "code",
      "source": [
        "# ==== ==== ==== ==== Training by Drug1 and Placebo 1st ==== ==== ==== ==== \n",
        "\n",
        "# ==== ==== ==== ==== SVM ==== ==== ==== ==== \n",
        "X_d1_pl = Drug1_1st_Corr_Vetorized + Placebo_1st_Corr_Vetorized\n",
        "X_d1_pl = np.arctanh(X_d1_pl)\n",
        "y_d1_pl = []\n",
        "for label in range(61):\n",
        "    if label < 28:\n",
        "        y_d1_pl.append(1)\n",
        "    else:\n",
        "        y_d1_pl.append(0)\n",
        "\n",
        "#clf_d1_pl = svm.LinearSVC(random_state=0, tol=1e-5, C=0.9)\n",
        "clf_d1_pl = svm.LinearSVC(penalty='l1', C=1.0, dual=False, tol=1e-5) # Good\n",
        "#clf_d1_pl = svm.SVC()\n",
        "\n",
        "# Train\n",
        "clf_d1_pl.fit(X_d1_pl, y_d1_pl)\n",
        "#print(clf_d1_pl.predict(X))\n",
        "\n",
        "# Cross Validation\n",
        "cv_results_d1_pl = cross_validate(clf_d1_pl, X_d1_pl, y_d1_pl, cv=5, return_train_score=False)\n",
        "sorted(cv_results_d1_pl.keys())         \n",
        "print(\"Training by Drug1 and Placebo 1st_SVM:\")\n",
        "print(cv_results_d1_pl['test_score'])\n",
        "\n",
        "\n",
        "# ==== ==== ==== ==== RF ==== ==== ==== ==== \n",
        "clf_d1_Aug_pl = RandomForestClassifier(n_jobs=1, random_state=0)\n",
        "clf_d1_Aug_pl.fit(X_d1_Aug_pl, y_d1_Aug_pl)\n",
        "\n",
        "# Cross Validation\n",
        "cv_results_d1_Aug_pl = cross_validate(clf_d1_Aug_pl, X_d1_Aug_pl, y_d1_Aug_pl, cv=5, return_train_score=False)\n",
        "sorted(cv_results_d1_Aug_pl.keys())                \n",
        "print(\"Training by Drug1 and Placebo 1st_RF:\")\n",
        "print(cv_results_d1_Aug_pl['test_score'])\n",
        "      \n",
        "      \n",
        "      \n",
        "# ==== ==== ==== ==== Training by Drug1_2 and Placebo 1st ==== ==== ==== ==== \n",
        "\n",
        "# ==== ==== ==== ==== SVM ==== ==== ==== ==== \n",
        "      \n",
        "X_d1_2_pl = Drug1_2_1st_Corr_Vetorized + Placebo_1st_Corr_Vetorized\n",
        "X_d1_2_pl = np.arctanh(X_d1_2_pl)\n",
        "y_d1_2_pl = []\n",
        "for label in range(81):\n",
        "    if label < 48:\n",
        "        y_d1_2_pl.append(1)\n",
        "    else:\n",
        "        y_d1_2_pl.append(0)\n",
        "\n",
        "\n",
        "#clf_d1_pl = svm.LinearSVC(random_state=0, tol=1e-5, C=0.9)\n",
        "clf_d1_2_pl = svm.LinearSVC(penalty='l1', C=1.0, dual=False, tol=1e-5) # Good\n",
        "#clf_d1_pl = svm.SVC()\n",
        "\n",
        "# Train\n",
        "clf_d1_2_pl.fit(X_d1_2_pl, y_d1_2_pl)\n",
        "#print(clf_d1_pl.predict(X))\n",
        "\n",
        "# Cross Validation\n",
        "cv_results_d1_2_pl = cross_validate(clf_d1_pl, X_d1_2_pl, y_d1_2_pl, cv=5, return_train_score=False)\n",
        "sorted(cv_results_d1_2_pl.keys())       \n",
        "print(\"Training by Drug1_2 and Placebo 1st_SVM:\")\n",
        "print(cv_results_d1_2_pl['test_score'])\n",
        "\n",
        "      \n",
        "# ==== ==== ==== ==== RF ==== ==== ==== ==== \n",
        "\n",
        "clf_d1_Aug_pl = RandomForestClassifier(n_jobs=1, random_state=0)\n",
        "clf_d1_Aug_pl.fit(X_d1_Aug_pl, y_d1_Aug_pl)\n",
        "\n",
        "# Cross Validation\n",
        "cv_results_d1_Aug_pl = cross_validate(clf_d1_Aug_pl, X_d1_Aug_pl, y_d1_Aug_pl, cv=5, return_train_score=False)\n",
        "sorted(cv_results_d1_Aug_pl.keys())           \n",
        "print(\"Training by Drug1_2 and Placebo 1st_RF:\")\n",
        "print(cv_results_d1_Aug_pl['test_score'])"
      ],
      "execution_count": 68,
      "outputs": [
        {
          "output_type": "stream",
          "text": [
            "Training by Drug1 and Placebo 1st_SVM:\n",
            "[0.46153846 0.76923077 0.38461538 0.63636364 0.54545455]\n",
            "Training by Drug1 and Placebo 1st_RF:\n",
            "[0.58852459 0.62459016 0.66065574 0.63934426 0.51639344]\n",
            "Training by Drug1_2 and Placebo 1st_SVM:\n",
            "[0.41176471 0.52941176 0.64705882 0.6        0.73333333]\n",
            "Training by Drug1_2 and Placebo 1st_RF:\n",
            "[0.58852459 0.62459016 0.66065574 0.63934426 0.51639344]\n"
          ],
          "name": "stdout"
        }
      ]
    },
    {
      "metadata": {
        "id": "DteJlytUDDsF",
        "colab_type": "text"
      },
      "cell_type": "markdown",
      "source": [
        "## 50 * 500"
      ]
    },
    {
      "metadata": {
        "id": "bVLz2jE6-3wc",
        "colab_type": "code",
        "colab": {}
      },
      "cell_type": "code",
      "source": [
        "# ==== ==== ==== ==== Drug1st AUGMENTATION and Placebo 1st AUGMENTATION==== ==== ==== ==== 50 * 500\n",
        "#''' ↓ Following is the same as prev lines, just for reload the data.\n",
        "listDrug1 = []\n",
        "listDrug1_Aug = [] # 1400\n",
        "listPlacebo = []\n",
        "listPlacebo_Aug = [] # 1650\n",
        "\n",
        "for i in range(28):\n",
        "    listDrug1.append(listDrug1ReadDict[i][0][0])\n",
        "for i in range(28):\n",
        "    listDrug1[i] = listDrug1[i][:2800, : ,] \n",
        "for i in range(28):\n",
        "    for j in range(50): # Split into 50 * 500 time samples \n",
        "        randNum = np.random.randint(0,2300)\n",
        "        listDrug1_Aug.append(listDrug1[i][randNum:randNum + 500, : ,])\n",
        "    \n",
        "for i in range(33):\n",
        "    listPlacebo.append(listPlaceboReadDict[i][0][0])\n",
        "for i in range(33):\n",
        "    listPlacebo[i] = listPlacebo[i][:2800, : ,]\n",
        "for i in range(33):\n",
        "    for j in range(50):\n",
        "        randNum = np.random.randint(0,2300)\n",
        "        listPlacebo_Aug.append(listPlacebo[i][randNum:randNum + 500, : ,])\n",
        "\n",
        "# just use 1st channel\n",
        "for i in range(1400):\n",
        "    listDrug1_Aug[i] = listDrug1_Aug[i][:,0,]\n",
        "for i in range(1650):\n",
        "    listPlacebo_Aug[i] = listPlacebo_Aug[i][:,0,]       \n",
        " #''' ↑ Following is the same as prev lines, just for reload the data.\n",
        " \n",
        " \n",
        "listDrug1_Aug_1st_Corr = []\n",
        "Drug1_Aug_1st_Corr_Vetorized = []\n",
        "for ID in range(1400):\n",
        "    tempCorrMatrix = np.identity(20)\n",
        "    tempVetorized = []\n",
        "    for i in range(20):\n",
        "        count = 0\n",
        "        for j in range(20):\n",
        "            if i == j :\n",
        "                continue\n",
        "            temp = np.corrcoef(listDrug1_Aug[ID][:,i],  listDrug1_Aug[ID][:,j])\n",
        "            tempCorrMatrix[i][j] = temp[0][1]\n",
        "            if count < i:\n",
        "                tempVetorized.append(temp[0][1])\n",
        "                count += 1\n",
        "    Drug1_Aug_1st_Corr_Vetorized.append(tempVetorized)\n",
        "    listDrug1_Aug_1st_Corr.append(tempCorrMatrix)\n",
        "\n",
        "# listPlacebo_1st_P Correalation\n",
        "listPlacebo_Aug_1st_Corr = []\n",
        "Placebo_Aug_1st_Corr_Vetorized = []\n",
        "for ID in range(1650):\n",
        "    tempCorrMatrix = np.identity(20)\n",
        "    tempVetorized = []\n",
        "    for i in range(20):\n",
        "        count = 0\n",
        "        for j in range(20):\n",
        "            if i == j :\n",
        "                continue\n",
        "            temp = np.corrcoef(listPlacebo_Aug[ID][:,i],  listPlacebo_Aug[ID][:,j])\n",
        "            tempCorrMatrix[i][j] = temp[0][1]\n",
        "            if count < i:\n",
        "                tempVetorized.append(temp[0][1])\n",
        "                count += 1\n",
        "    Placebo_Aug_1st_Corr_Vetorized.append(tempVetorized)\n",
        "    listPlacebo_Aug_1st_Corr.append(tempCorrMatrix)\n",
        "\n",
        "X_d1_Aug_pl = Drug1_Aug_1st_Corr_Vetorized + Placebo_Aug_1st_Corr_Vetorized\n",
        "X_d1_Aug_pl = np.arctanh(X_d1_Aug_pl)\n",
        "y_d1_Aug_pl = []\n",
        "for label in range(3050):\n",
        "    if label < 1400:\n",
        "        y_d1_Aug_pl.append(1)\n",
        "    else:\n",
        "        y_d1_Aug_pl.append(0)\n",
        "        "
      ],
      "execution_count": 0,
      "outputs": []
    },
    {
      "metadata": {
        "id": "VQkDgdyzPChj",
        "colab_type": "code",
        "colab": {}
      },
      "cell_type": "code",
      "source": [
        "permutation = np.random.permutation(3050)\n",
        "\n",
        "y_d1_Aug_pl = np.asarray(y_d1_Aug_pl)\n",
        "X_d1_Aug_pl = X_d1_Aug_pl[permutation, :]\n",
        "y_d1_Aug_pl = y_d1_Aug_pl[permutation]"
      ],
      "execution_count": 0,
      "outputs": []
    },
    {
      "metadata": {
        "id": "VbgiCDPEAHAz",
        "colab_type": "code",
        "colab": {
          "base_uri": "https://localhost:8080/",
          "height": 34
        },
        "outputId": "c006257c-7156-42e2-ceee-032345522909"
      },
      "cell_type": "code",
      "source": [
        "# ======= SVM 1 =======\n",
        "clf_d1_Aug_pl = svm.LinearSVC(random_state=0, tol=1e-5, C=1)\n",
        "#clf_d1_Aug_pl = svm.LinearSVC(penalty='l1', C=1.0, dual=False, tol=1e-5)\n",
        "#clf_d1_Aug_pl = svm.SVC()\n",
        "\n",
        "# Train\n",
        "clf_d1_Aug_pl.fit(X_d1_Aug_pl, y_d1_Aug_pl)\n",
        "\n",
        "# Cross Validation\n",
        "cv_results_d1_Aug_pl = cross_validate(clf_d1_Aug_pl, X_d1_Aug_pl, y_d1_Aug_pl, cv=5, return_train_score=False)\n",
        "sorted(cv_results_d1_Aug_pl.keys())                     \n",
        "print(cv_results_d1_Aug_pl['test_score'])"
      ],
      "execution_count": 71,
      "outputs": [
        {
          "output_type": "stream",
          "text": [
            "[0.92622951 0.92622951 0.93442623 0.91639344 0.91639344]\n"
          ],
          "name": "stdout"
        }
      ]
    },
    {
      "metadata": {
        "id": "trEt4X9q--XJ",
        "colab_type": "code",
        "colab": {
          "base_uri": "https://localhost:8080/",
          "height": 51
        },
        "outputId": "20e62028-e5f0-4990-caff-607c3dad39c8"
      },
      "cell_type": "code",
      "source": [
        "# ==== ==== ==== ==== Training by Drug 1st AUGMENTATION and Placebo 1st ==== ==== ==== ==== \n",
        "# ======= SVM 2 =======\n",
        "#clf_d1_Aug_pl = svm.LinearSVC(random_state=0, tol=1e-5, C=1)\n",
        "clf_d1_Aug_pl = svm.LinearSVC(penalty='l1', C=1.0, dual=False, tol=1e-5)\n",
        "#clf_d1_Aug_pl = svm.SVC()\n",
        "\n",
        "# Train\n",
        "clf_d1_Aug_pl.fit(X_d1_Aug_pl, y_d1_Aug_pl)\n",
        "#print(clf_d1_pl.predict(X))\n",
        "\n",
        "# Cross Validation\n",
        "cv_results_d1_Aug_pl = cross_validate(clf_d1_Aug_pl, X_d1_Aug_pl, y_d1_Aug_pl, cv=5, return_train_score=False)\n",
        "sorted(cv_results_d1_Aug_pl.keys())          \n",
        "print(\"Training by Drug 1st Aug and Placebo 1st Aug_SVM:\")\n",
        "print(cv_results_d1_Aug_pl['test_score'])"
      ],
      "execution_count": 72,
      "outputs": [
        {
          "output_type": "stream",
          "text": [
            "Training by Drug 1st Aug and Placebo 1st Aug_SVM:\n",
            "[0.92786885 0.92786885 0.93606557 0.91639344 0.9295082 ]\n"
          ],
          "name": "stdout"
        }
      ]
    },
    {
      "metadata": {
        "id": "8G8yi0kKAVr5",
        "colab_type": "code",
        "colab": {
          "base_uri": "https://localhost:8080/",
          "height": 34
        },
        "outputId": "0d0956b8-0f1e-44e7-f40d-25e2c9d8b6fa"
      },
      "cell_type": "code",
      "source": [
        "# ======= SVM 3 =======\n",
        "#clf_d1_Aug_pl = svm.LinearSVC(random_state=0, tol=1e-5, C=1)\n",
        "#clf_d1_Aug_pl = svm.LinearSVC(penalty='l1', C=1.0, dual=False, tol=1e-5)\n",
        "clf_d1_Aug_pl = svm.SVC()\n",
        "\n",
        "# Train\n",
        "clf_d1_Aug_pl.fit(X_d1_Aug_pl, y_d1_Aug_pl)\n",
        "#print(clf_d1_pl.predict(X))\n",
        "\n",
        "# Cross Validation\n",
        "cv_results_d1_Aug_pl = cross_validate(clf_d1_Aug_pl, X_d1_Aug_pl, y_d1_Aug_pl, cv=5, return_train_score=False)\n",
        "sorted(cv_results_d1_Aug_pl.keys())                     \n",
        "print(cv_results_d1_Aug_pl['test_score'])"
      ],
      "execution_count": 73,
      "outputs": [
        {
          "output_type": "stream",
          "text": [
            "[0.96229508 0.93934426 0.96065574 0.95901639 0.93442623]\n"
          ],
          "name": "stdout"
        }
      ]
    },
    {
      "metadata": {
        "id": "Ff6A4ShZA9eW",
        "colab_type": "code",
        "colab": {
          "base_uri": "https://localhost:8080/",
          "height": 34
        },
        "outputId": "f0c1ce91-52ee-4d5b-8017-df700eff550f"
      },
      "cell_type": "code",
      "source": [
        "# ======= RF =======\n",
        "clf_d1_Aug_pl = RandomForestClassifier(n_jobs=1, random_state=0)\n",
        "\n",
        "# Train\n",
        "clf_d1_Aug_pl.fit(X_d1_Aug_pl, y_d1_Aug_pl)\n",
        "#print(clf_d1_pl.predict(X))\n",
        "\n",
        "# Cross Validation\n",
        "cv_results_d1_Aug_pl = cross_validate(clf_d1_Aug_pl, X_d1_Aug_pl, y_d1_Aug_pl, cv=5, return_train_score=False)\n",
        "sorted(cv_results_d1_Aug_pl.keys())                     \n",
        "print(cv_results_d1_Aug_pl['test_score'])"
      ],
      "execution_count": 74,
      "outputs": [
        {
          "output_type": "stream",
          "text": [
            "[0.96229508 0.95245902 0.96557377 0.96557377 0.94098361]\n"
          ],
          "name": "stdout"
        }
      ]
    },
    {
      "metadata": {
        "id": "oNaJAieUC_aI",
        "colab_type": "text"
      },
      "cell_type": "markdown",
      "source": [
        "## 50 * 600"
      ]
    },
    {
      "metadata": {
        "id": "206bQDqx-DaP",
        "colab_type": "code",
        "colab": {
          "base_uri": "https://localhost:8080/",
          "height": 68
        },
        "outputId": "e7c0f9a4-eb69-48f4-f57e-cd3cd409d618"
      },
      "cell_type": "code",
      "source": [
        "# ==== ==== ==== ==== Drug1st AUGMENTATION and Placebo 1st AUGMENTATION==== ==== ==== ==== 50 * 600\n",
        "#''' ↓ Following is the same as prev lines, just for reload the data.\n",
        "listDrug1 = []\n",
        "listDrug1_Aug = [] # 1400\n",
        "listPlacebo = []\n",
        "listPlacebo_Aug = [] # 1650\n",
        "\n",
        "for i in range(28):\n",
        "    listDrug1.append(listDrug1ReadDict[i][0][0])\n",
        "for i in range(28):\n",
        "    listDrug1[i] = listDrug1[i][:2800, : ,] \n",
        "for i in range(28):\n",
        "    for j in range(50): # Split into 50 * 600 time samples \n",
        "        randNum = np.random.randint(0,2200)\n",
        "        listDrug1_Aug.append(listDrug1[i][randNum:randNum + 600, : ,])\n",
        "    \n",
        "for i in range(33):\n",
        "    listPlacebo.append(listPlaceboReadDict[i][0][0])\n",
        "for i in range(33):\n",
        "    listPlacebo[i] = listPlacebo[i][:2800, : ,]\n",
        "for i in range(33):\n",
        "    for j in range(50):\n",
        "        randNum = np.random.randint(0,2200)\n",
        "        listPlacebo_Aug.append(listPlacebo[i][randNum:randNum + 600, : ,])\n",
        "\n",
        "# just use 1st channel\n",
        "for i in range(1400):\n",
        "    listDrug1_Aug[i] = listDrug1_Aug[i][:,0,]\n",
        "for i in range(1650):\n",
        "    listPlacebo_Aug[i] = listPlacebo_Aug[i][:,0,]\n",
        "\n",
        "print(\"Checkpoint1\")         \n",
        " #''' ↑ Following is the same as prev lines, just for reload the data.\n",
        " \n",
        " \n",
        "listDrug1_Aug_1st_Corr = []\n",
        "Drug1_Aug_1st_Corr_Vetorized = []\n",
        "for ID in range(1400):\n",
        "    tempCorrMatrix = np.identity(20)\n",
        "    tempVetorized = []\n",
        "    for i in range(20):\n",
        "        count = 0\n",
        "        for j in range(20):\n",
        "            if i == j :\n",
        "                continue\n",
        "            temp = np.corrcoef(listDrug1_Aug[ID][:,i],  listDrug1_Aug[ID][:,j])\n",
        "            tempCorrMatrix[i][j] = temp[0][1]\n",
        "            if count < i:\n",
        "                tempVetorized.append(temp[0][1])\n",
        "                count += 1\n",
        "    Drug1_Aug_1st_Corr_Vetorized.append(tempVetorized)\n",
        "    listDrug1_Aug_1st_Corr.append(tempCorrMatrix)\n",
        "\n",
        "print(\"Checkpoint2.1\") \n",
        "# listPlacebo_1st_P Correalation\n",
        "listPlacebo_Aug_1st_Corr = []\n",
        "Placebo_Aug_1st_Corr_Vetorized = []\n",
        "for ID in range(1650):\n",
        "    tempCorrMatrix = np.identity(20)\n",
        "    tempVetorized = []\n",
        "    for i in range(20):\n",
        "        count = 0\n",
        "        for j in range(20):\n",
        "            if i == j :\n",
        "                continue\n",
        "            temp = np.corrcoef(listPlacebo_Aug[ID][:,i],  listPlacebo_Aug[ID][:,j])\n",
        "            tempCorrMatrix[i][j] = temp[0][1]\n",
        "            if count < i:\n",
        "                tempVetorized.append(temp[0][1])\n",
        "                count += 1\n",
        "    Placebo_Aug_1st_Corr_Vetorized.append(tempVetorized)\n",
        "    listPlacebo_Aug_1st_Corr.append(tempCorrMatrix)\n",
        "\n",
        "X_d1_Aug_pl = Drug1_Aug_1st_Corr_Vetorized + Placebo_Aug_1st_Corr_Vetorized\n",
        "X_d1_Aug_pl = np.arctanh(X_d1_Aug_pl)\n",
        "y_d1_Aug_pl = []\n",
        "for label in range(3050):\n",
        "    if label < 1400:\n",
        "        y_d1_Aug_pl.append(1)\n",
        "    else:\n",
        "        y_d1_Aug_pl.append(0)\n",
        "        \n",
        "print(\"Checkpoint2.2\")  "
      ],
      "execution_count": 75,
      "outputs": [
        {
          "output_type": "stream",
          "text": [
            "Checkpoint1\n",
            "Checkpoint2.1\n",
            "Checkpoint2.2\n"
          ],
          "name": "stdout"
        }
      ]
    },
    {
      "metadata": {
        "id": "ExxhVo5wPGZW",
        "colab_type": "code",
        "colab": {}
      },
      "cell_type": "code",
      "source": [
        "permutation = np.random.permutation(3050)\n",
        "\n",
        "y_d1_Aug_pl = np.asarray(y_d1_Aug_pl)\n",
        "X_d1_Aug_pl = X_d1_Aug_pl[permutation, :]\n",
        "y_d1_Aug_pl = y_d1_Aug_pl[permutation]"
      ],
      "execution_count": 0,
      "outputs": []
    },
    {
      "metadata": {
        "id": "0VVQXfRZB7-p",
        "colab_type": "code",
        "colab": {
          "base_uri": "https://localhost:8080/",
          "height": 34
        },
        "outputId": "3241b825-178c-44ff-f0bc-74c7540bb250"
      },
      "cell_type": "code",
      "source": [
        "# ======= SVM 1 =======\n",
        "clf_d1_Aug_pl = svm.LinearSVC(random_state=0, tol=1e-5, C=1)\n",
        "#clf_d1_Aug_pl = svm.LinearSVC(penalty='l1', C=1.0, dual=False, tol=1e-5) \n",
        "#clf_d1_Aug_pl = svm.SVC()\n",
        "\n",
        "# Train\n",
        "clf_d1_Aug_pl.fit(X_d1_Aug_pl, y_d1_Aug_pl)\n",
        "#print(clf_d1_pl.predict(X))\n",
        "\n",
        "# Cross Validation\n",
        "cv_results_d1_Aug_pl = cross_validate(clf_d1_Aug_pl, X_d1_Aug_pl, y_d1_Aug_pl, cv=5, return_train_score=False)\n",
        "sorted(cv_results_d1_Aug_pl.keys())                     \n",
        "print(cv_results_d1_Aug_pl['test_score'])"
      ],
      "execution_count": 77,
      "outputs": [
        {
          "output_type": "stream",
          "text": [
            "[0.96393443 0.97540984 0.96065574 0.97377049 0.96885246]\n"
          ],
          "name": "stdout"
        }
      ]
    },
    {
      "metadata": {
        "id": "YWM5qWv0BVbu",
        "colab_type": "code",
        "colab": {
          "base_uri": "https://localhost:8080/",
          "height": 34
        },
        "outputId": "95e8bc7b-bd3d-429c-8cf7-9104273aa895"
      },
      "cell_type": "code",
      "source": [
        "# ======= SVM 2 =======\n",
        "#clf_d1_Aug_pl = svm.LinearSVC(random_state=0, tol=1e-5, C=1)\n",
        "clf_d1_Aug_pl = svm.LinearSVC(penalty='l1', C=1.0, dual=False, tol=1e-5) \n",
        "#clf_d1_Aug_pl = svm.SVC()\n",
        "\n",
        "# Train\n",
        "clf_d1_Aug_pl.fit(X_d1_Aug_pl, y_d1_Aug_pl)\n",
        "#print(clf_d1_pl.predict(X))\n",
        "\n",
        "# Cross Validation\n",
        "cv_results_d1_Aug_pl = cross_validate(clf_d1_Aug_pl, X_d1_Aug_pl, y_d1_Aug_pl, cv=5, return_train_score=False)\n",
        "sorted(cv_results_d1_Aug_pl.keys())                     \n",
        "print(cv_results_d1_Aug_pl['test_score'])"
      ],
      "execution_count": 78,
      "outputs": [
        {
          "output_type": "stream",
          "text": [
            "[0.95409836 0.97540984 0.95245902 0.97213115 0.97213115]\n"
          ],
          "name": "stdout"
        }
      ]
    },
    {
      "metadata": {
        "id": "JbPxei3fB8Fs",
        "colab_type": "code",
        "colab": {
          "base_uri": "https://localhost:8080/",
          "height": 34
        },
        "outputId": "817300eb-4ffc-4029-9c35-84ea9eb2303a"
      },
      "cell_type": "code",
      "source": [
        "# ======= SVM 3 =======\n",
        "#clf_d1_Aug_pl = svm.LinearSVC(random_state=0, tol=1e-5, C=1)\n",
        "#clf_d1_Aug_pl = svm.LinearSVC(penalty='l1', C=1.0, dual=False, tol=1e-5) \n",
        "clf_d1_Aug_pl = svm.SVC()\n",
        "\n",
        "# Train\n",
        "clf_d1_Aug_pl.fit(X_d1_Aug_pl, y_d1_Aug_pl)\n",
        "#print(clf_d1_pl.predict(X))\n",
        "\n",
        "# Cross Validation\n",
        "cv_results_d1_Aug_pl = cross_validate(clf_d1_Aug_pl, X_d1_Aug_pl, y_d1_Aug_pl, cv=5, return_train_score=False)\n",
        "sorted(cv_results_d1_Aug_pl.keys())                     \n",
        "print(cv_results_d1_Aug_pl['test_score'])"
      ],
      "execution_count": 79,
      "outputs": [
        {
          "output_type": "stream",
          "text": [
            "[0.97213115 0.96885246 0.95737705 0.95901639 0.95737705]\n"
          ],
          "name": "stdout"
        }
      ]
    },
    {
      "metadata": {
        "id": "9DPj3BX2B8Su",
        "colab_type": "code",
        "colab": {
          "base_uri": "https://localhost:8080/",
          "height": 34
        },
        "outputId": "74703993-d2f3-4220-8761-9e6f889f86db"
      },
      "cell_type": "code",
      "source": [
        "# ======= SVM 4 =======\n",
        "#clf_d1_Aug_pl = svm.LinearSVC(random_state=0, tol=1e-5, C=1)\n",
        "#clf_d1_Aug_pl = svm.LinearSVC(penalty='l1', C=1.0, dual=False, tol=1e-5) \n",
        "#clf_d1_Aug_pl = svm.SVC()\n",
        "clf_d1_Aug_pl = svm.NuSVC()\n",
        "\n",
        "# Train\n",
        "clf_d1_Aug_pl.fit(X_d1_Aug_pl, y_d1_Aug_pl)\n",
        "#print(clf_d1_pl.predict(X))\n",
        "\n",
        "# Cross Validation\n",
        "cv_results_d1_Aug_pl = cross_validate(clf_d1_Aug_pl, X_d1_Aug_pl, y_d1_Aug_pl, cv=5, return_train_score=False)\n",
        "sorted(cv_results_d1_Aug_pl.keys())                     \n",
        "print(cv_results_d1_Aug_pl['test_score'])"
      ],
      "execution_count": 80,
      "outputs": [
        {
          "output_type": "stream",
          "text": [
            "[0.96885246 0.96393443 0.95409836 0.9557377  0.94918033]\n"
          ],
          "name": "stdout"
        }
      ]
    },
    {
      "metadata": {
        "id": "naQRM9T5CzKn",
        "colab_type": "code",
        "colab": {
          "base_uri": "https://localhost:8080/",
          "height": 34
        },
        "outputId": "f45472e5-9e3b-4c86-894d-a1fe4c8bb07c"
      },
      "cell_type": "code",
      "source": [
        "# ======= RF =======\n",
        "clf_d1_Aug_pl = RandomForestClassifier(n_jobs=1, random_state=0)\n",
        "\n",
        "# Train\n",
        "clf_d1_Aug_pl.fit(X_d1_Aug_pl, y_d1_Aug_pl)\n",
        "#print(clf_d1_pl.predict(X))\n",
        "\n",
        "# Cross Validation\n",
        "cv_results_d1_Aug_pl = cross_validate(clf_d1_Aug_pl, X_d1_Aug_pl, y_d1_Aug_pl, cv=5, return_train_score=False)\n",
        "sorted(cv_results_d1_Aug_pl.keys())                     \n",
        "print(cv_results_d1_Aug_pl['test_score'])"
      ],
      "execution_count": 81,
      "outputs": [
        {
          "output_type": "stream",
          "text": [
            "[0.97540984 0.97213115 0.96393443 0.97213115 0.97540984]\n"
          ],
          "name": "stdout"
        }
      ]
    },
    {
      "metadata": {
        "id": "i6RXp5USC73p",
        "colab_type": "text"
      },
      "cell_type": "markdown",
      "source": [
        "## 100 X 300 -> Drug |  100 X 600 -> Placebo（Mark)"
      ]
    },
    {
      "metadata": {
        "id": "hVfDsbnHCsJw",
        "colab_type": "code",
        "colab": {
          "base_uri": "https://localhost:8080/",
          "height": 68
        },
        "outputId": "c56c9b92-da01-45e9-8fb7-dfd5fc63f80e"
      },
      "cell_type": "code",
      "source": [
        "# ==== ==== ==== ==== Drug1st AUGMENTATION and Placebo 1st AUGMENTATION==== ==== ==== ==== 100 * 300\n",
        "#''' ↓ Following is the same as prev lines, just for reload the data.\n",
        "\n",
        "\n",
        "listDrug1 = []\n",
        "listDrug1_Aug = [] # 2800\n",
        "listPlacebo = []\n",
        "listPlacebo_Aug = [] # 3300\n",
        "\n",
        "for i in range(28):\n",
        "    listDrug1.append(listDrug1ReadDict[i][0][0])\n",
        "for i in range(28):\n",
        "    listDrug1[i] = listDrug1[i][:2800, : ,] \n",
        "for i in range(28):\n",
        "    for j in range(100): # Split into 100 * 300 time samples \n",
        "        randNum = np.random.randint(0,2500)\n",
        "        listDrug1_Aug.append(listDrug1[i][randNum : randNum + 300, : ,])\n",
        "    \n",
        "for i in range(33):\n",
        "    listPlacebo.append(listPlaceboReadDict[i][0][0])\n",
        "for i in range(33):\n",
        "    listPlacebo[i] = listPlacebo[i][:2800, : ,]\n",
        "for i in range(33):\n",
        "    for j in range(100):\n",
        "        randNum = np.random.randint(0,2200)\n",
        "        listPlacebo_Aug.append(listPlacebo[i][randNum : randNum + 600, : ,])\n",
        "\n",
        "# just use 1st channel\n",
        "for i in range(2800):\n",
        "    listDrug1_Aug[i] = listDrug1_Aug[i][:,0,]\n",
        "for i in range(3300):\n",
        "    listPlacebo_Aug[i] = listPlacebo_Aug[i][:,0,]\n",
        "\n",
        "print(\"Checkpoint1\")         \n",
        " #''' ↑ Following is the same as prev lines, just for reload the data.\n",
        " \n",
        " \n",
        "listDrug1_Aug_1st_Corr = []\n",
        "Drug1_Aug_1st_Corr_Vetorized = []\n",
        "for ID in range(2800):\n",
        "    tempCorrMatrix = np.identity(20)\n",
        "    tempVetorized = []\n",
        "    for i in range(20):\n",
        "        count = 0\n",
        "        for j in range(20):\n",
        "            if i == j :\n",
        "                continue\n",
        "            temp = np.corrcoef(listDrug1_Aug[ID][:,i],  listDrug1_Aug[ID][:,j])\n",
        "            tempCorrMatrix[i][j] = temp[0][1]\n",
        "            if count < i:\n",
        "                tempVetorized.append(temp[0][1])\n",
        "                count += 1\n",
        "    Drug1_Aug_1st_Corr_Vetorized.append(tempVetorized)\n",
        "    listDrug1_Aug_1st_Corr.append(tempCorrMatrix)\n",
        "\n",
        "print(\"Checkpoint2.1\") \n",
        "# listPlacebo_1st_P Correalation\n",
        "listPlacebo_Aug_1st_Corr = []\n",
        "Placebo_Aug_1st_Corr_Vetorized = []\n",
        "for ID in range(3300):\n",
        "    tempCorrMatrix = np.identity(20)\n",
        "    tempVetorized = []\n",
        "    for i in range(20):\n",
        "        count = 0\n",
        "        for j in range(20):\n",
        "            if i == j :\n",
        "                continue\n",
        "            temp = np.corrcoef(listPlacebo_Aug[ID][:,i],  listPlacebo_Aug[ID][:,j])\n",
        "            tempCorrMatrix[i][j] = temp[0][1]\n",
        "            if count < i:\n",
        "                tempVetorized.append(temp[0][1])\n",
        "                count += 1\n",
        "    Placebo_Aug_1st_Corr_Vetorized.append(tempVetorized)\n",
        "    listPlacebo_Aug_1st_Corr.append(tempCorrMatrix)\n",
        "\n",
        "X_d1_Aug_pl = Drug1_Aug_1st_Corr_Vetorized + Placebo_Aug_1st_Corr_Vetorized\n",
        "X_d1_Aug_pl = np.arctanh(X_d1_Aug_pl)\n",
        "y_d1_Aug_pl = []\n",
        "for label in range(6100):\n",
        "    if label < 2800:\n",
        "        y_d1_Aug_pl.append(1)\n",
        "    else:\n",
        "        y_d1_Aug_pl.append(0)\n",
        "        \n",
        "print(\"Checkpoint2.2\")  "
      ],
      "execution_count": 82,
      "outputs": [
        {
          "output_type": "stream",
          "text": [
            "Checkpoint1\n",
            "Checkpoint2.1\n",
            "Checkpoint2.2\n"
          ],
          "name": "stdout"
        }
      ]
    },
    {
      "metadata": {
        "id": "J84n1sFee6US",
        "colab_type": "code",
        "colab": {}
      },
      "cell_type": "code",
      "source": [
        "permutation = np.random.permutation(6100)\n",
        "y_d1_Aug_pl = np.asarray(y_d1_Aug_pl)\n",
        "X_d1_Aug_pl = X_d1_Aug_pl[permutation, :]\n",
        "y_d1_Aug_pl = y_d1_Aug_pl[permutation]"
      ],
      "execution_count": 0,
      "outputs": []
    },
    {
      "metadata": {
        "id": "fqgxqG5JC8IX",
        "colab_type": "code",
        "colab": {
          "base_uri": "https://localhost:8080/",
          "height": 34
        },
        "outputId": "0638aa02-50cd-4ce3-a365-a92a2571d42b"
      },
      "cell_type": "code",
      "source": [
        "# ======= SVM1 =======\n",
        "clf_d1_Aug_pl = svm.LinearSVC(random_state=0, tol=1e-5, C=1)\n",
        "#clf_d1_Aug_pl = svm.LinearSVC(penalty='l1', C=1.0, dual=False, tol=1e-5)\n",
        "#clf_d1_Aug_pl = svm.SVC()\n",
        "\n",
        "# Train\n",
        "clf_d1_Aug_pl.fit(X_d1_Aug_pl, y_d1_Aug_pl)\n",
        "\n",
        "# Cross Validation\n",
        "cv_results_d1_Aug_pl = cross_validate(clf_d1_Aug_pl, X_d1_Aug_pl, y_d1_Aug_pl, cv=5, return_train_score=False)\n",
        "sorted(cv_results_d1_Aug_pl.keys())                     \n",
        "print(cv_results_d1_Aug_pl['test_score'])"
      ],
      "execution_count": 84,
      "outputs": [
        {
          "output_type": "stream",
          "text": [
            "[0.87540984 0.8557377  0.86639344 0.86557377 0.86885246]\n"
          ],
          "name": "stdout"
        }
      ]
    },
    {
      "metadata": {
        "id": "_NL3P5DSC7-r",
        "colab_type": "code",
        "colab": {
          "base_uri": "https://localhost:8080/",
          "height": 34
        },
        "outputId": "9e99b5aa-6106-40fa-ec60-fc3e68100b71"
      },
      "cell_type": "code",
      "source": [
        "# ======= SVM2 =======\n",
        "#clf_d1_Aug_pl = svm.LinearSVC(random_state=0, tol=1e-5, C=1)\n",
        "clf_d1_Aug_pl = svm.LinearSVC(penalty='l1', C=1.0, dual=False, tol=1e-5)\n",
        "#clf_d1_Aug_pl = svm.SVC()\n",
        "\n",
        "# Train\n",
        "clf_d1_Aug_pl.fit(X_d1_Aug_pl, y_d1_Aug_pl)\n",
        "#print(clf_d1_pl.predict(X))\n",
        "\n",
        "# Cross Validation\n",
        "cv_results_d1_Aug_pl = cross_validate(clf_d1_Aug_pl, X_d1_Aug_pl, y_d1_Aug_pl, cv=5, return_train_score=False)\n",
        "sorted(cv_results_d1_Aug_pl.keys())                     \n",
        "print(cv_results_d1_Aug_pl['test_score'])"
      ],
      "execution_count": 85,
      "outputs": [
        {
          "output_type": "stream",
          "text": [
            "[0.88114754 0.85901639 0.8647541  0.86147541 0.86557377]\n"
          ],
          "name": "stdout"
        }
      ]
    },
    {
      "metadata": {
        "id": "QPfENcDeFib2",
        "colab_type": "code",
        "colab": {
          "base_uri": "https://localhost:8080/",
          "height": 34
        },
        "outputId": "57aa7767-157b-4646-f71b-2d93490d2002"
      },
      "cell_type": "code",
      "source": [
        "# ======= SVM3 =======\n",
        "# 100 * 300  GOOD\n",
        "\n",
        "#clf_d1_Aug_pl = svm.LinearSVC(random_state=0, tol=1e-5, C=1)\n",
        "#clf_d1_Aug_pl = svm.LinearSVC(penalty='l1', C=1.0, dual=False, tol=1e-5)\n",
        "clf_d1_Aug_pl = svm.SVC()\n",
        "\n",
        "# Train\n",
        "clf_d1_Aug_pl.fit(X_d1_Aug_pl, y_d1_Aug_pl)\n",
        "#print(clf_d1_pl.predict(X))\n",
        "\n",
        "# Cross Validation\n",
        "cv_results_d1_Aug_pl = cross_validate(clf_d1_Aug_pl, X_d1_Aug_pl, y_d1_Aug_pl, cv=5, return_train_score=False)\n",
        "sorted(cv_results_d1_Aug_pl.keys())                     \n",
        "print(cv_results_d1_Aug_pl['test_score'])"
      ],
      "execution_count": 86,
      "outputs": [
        {
          "output_type": "stream",
          "text": [
            "[0.9795082  0.97868852 0.98852459 0.98442623 0.97704918]\n"
          ],
          "name": "stdout"
        }
      ]
    },
    {
      "metadata": {
        "id": "crjIfognGNdM",
        "colab_type": "code",
        "colab": {
          "base_uri": "https://localhost:8080/",
          "height": 34
        },
        "outputId": "dba26c05-5a73-4f9b-d5f6-b5ec66ce46ff"
      },
      "cell_type": "code",
      "source": [
        "# ======= SVM4 =======\n",
        "#clf_d1_Aug_pl = svm.LinearSVC(random_state=0, tol=1e-5, C=1)\n",
        "#clf_d1_Aug_pl = svm.LinearSVC(penalty='l1', C=1.0, dual=False, tol=1e-5)\n",
        "#clf_d1_Aug_pl = svm.SVC()\n",
        "clf_d1_Aug_pl = clf_d1_Aug_pl = svm.NuSVC()\n",
        "\n",
        "# Train\n",
        "clf_d1_Aug_pl.fit(X_d1_Aug_pl, y_d1_Aug_pl)\n",
        "#print(clf_d1_pl.predict(X))\n",
        "\n",
        "# Cross Validation\n",
        "cv_results_d1_Aug_pl = cross_validate(clf_d1_Aug_pl, X_d1_Aug_pl, y_d1_Aug_pl, cv=5, return_train_score=False)\n",
        "sorted(cv_results_d1_Aug_pl.keys())                     \n",
        "print(cv_results_d1_Aug_pl['test_score'])"
      ],
      "execution_count": 87,
      "outputs": [
        {
          "output_type": "stream",
          "text": [
            "[0.92459016 0.92622951 0.93852459 0.93770492 0.91803279]\n"
          ],
          "name": "stdout"
        }
      ]
    },
    {
      "metadata": {
        "id": "689XtKnb5koz",
        "colab_type": "code",
        "colab": {
          "base_uri": "https://localhost:8080/",
          "height": 34
        },
        "outputId": "4314fb12-5a00-400c-8f49-8eb970fb6c70"
      },
      "cell_type": "code",
      "source": [
        "# ======= RF =======\n",
        "# 100 * 300  GOOD\n",
        "\n",
        "clf_d1_Aug_pl = RandomForestClassifier(n_jobs=1, random_state=0)\n",
        "clf_d1_Aug_pl.fit(X_d1_Aug_pl, y_d1_Aug_pl)\n",
        "\n",
        "# Cross Validation\n",
        "cv_results_d1_Aug_pl = cross_validate(clf_d1_Aug_pl, X_d1_Aug_pl, y_d1_Aug_pl, cv=5, return_train_score=False)\n",
        "sorted(cv_results_d1_Aug_pl.keys())                     \n",
        "print(cv_results_d1_Aug_pl['test_score'])"
      ],
      "execution_count": 88,
      "outputs": [
        {
          "output_type": "stream",
          "text": [
            "[0.98688525 0.98442623 0.98852459 0.98852459 0.98114754]\n"
          ],
          "name": "stdout"
        }
      ]
    },
    {
      "metadata": {
        "id": "O2cg8pPJImrE",
        "colab_type": "text"
      },
      "cell_type": "markdown",
      "source": [
        "## 100 * 250"
      ]
    },
    {
      "metadata": {
        "id": "oPq3P1Kn1c6o",
        "colab_type": "code",
        "colab": {
          "base_uri": "https://localhost:8080/",
          "height": 68
        },
        "outputId": "43312c12-f93e-4245-956b-30fa4a7a10ab"
      },
      "cell_type": "code",
      "source": [
        "# ==== ==== ==== ==== Drug1st AUGMENTATION and Placebo 1st AUGMENTATION==== ==== ==== ==== 100 * 250\n",
        "#''' ↓ Following is the same as prev lines, just for reload the data.\n",
        "\n",
        "\n",
        "listDrug1 = []\n",
        "listDrug1_Aug = [] # 2800\n",
        "listPlacebo = []\n",
        "listPlacebo_Aug = [] # 3300\n",
        "\n",
        "for i in range(28):\n",
        "    listDrug1.append(listDrug1ReadDict[i][0][0])\n",
        "for i in range(28):\n",
        "    listDrug1[i] = listDrug1[i][:2800, : ,] \n",
        "for i in range(28):\n",
        "    for j in range(100): # Split into 100 * 250 time samples \n",
        "        randNum = np.random.randint(0,2550)\n",
        "        listDrug1_Aug.append(listDrug1[i][randNum:randNum + 250, : ,])\n",
        "    \n",
        "for i in range(33):\n",
        "    listPlacebo.append(listPlaceboReadDict[i][0][0])\n",
        "for i in range(33):\n",
        "    listPlacebo[i] = listPlacebo[i][:2800, : ,]\n",
        "for i in range(33):\n",
        "    for j in range(100):\n",
        "        randNum = np.random.randint(0,2550)\n",
        "        listPlacebo_Aug.append(listPlacebo[i][randNum:randNum + 250, : ,])\n",
        "\n",
        "# just use 1st channel\n",
        "for i in range(2800):\n",
        "    listDrug1_Aug[i] = listDrug1_Aug[i][:,0,]\n",
        "for i in range(3300):\n",
        "    listPlacebo_Aug[i] = listPlacebo_Aug[i][:,0,]\n",
        "\n",
        "print(\"Checkpoint1\")         \n",
        " #''' ↑ Following is the same as prev lines, just for reload the data.\n",
        " \n",
        " \n",
        "listDrug1_Aug_1st_Corr = []\n",
        "Drug1_Aug_1st_Corr_Vetorized = []\n",
        "for ID in range(2800):\n",
        "    tempCorrMatrix = np.identity(20)\n",
        "    tempVetorized = []\n",
        "    for i in range(20):\n",
        "        count = 0\n",
        "        for j in range(20):\n",
        "            if i == j :\n",
        "                continue\n",
        "            temp = np.corrcoef(listDrug1_Aug[ID][:,i],  listDrug1_Aug[ID][:,j])\n",
        "            tempCorrMatrix[i][j] = temp[0][1]\n",
        "            if count < i:\n",
        "                tempVetorized.append(temp[0][1])\n",
        "                count += 1\n",
        "    Drug1_Aug_1st_Corr_Vetorized.append(tempVetorized)\n",
        "    listDrug1_Aug_1st_Corr.append(tempCorrMatrix)\n",
        "\n",
        "print(\"Checkpoint2.1\") \n",
        "# listPlacebo_1st_P Correalation\n",
        "listPlacebo_Aug_1st_Corr = []\n",
        "Placebo_Aug_1st_Corr_Vetorized = []\n",
        "for ID in range(3300):\n",
        "    tempCorrMatrix = np.identity(20)\n",
        "    tempVetorized = []\n",
        "    for i in range(20):\n",
        "        count = 0\n",
        "        for j in range(20):\n",
        "            if i == j :\n",
        "                continue\n",
        "            temp = np.corrcoef(listPlacebo_Aug[ID][:,i],  listPlacebo_Aug[ID][:,j])\n",
        "            tempCorrMatrix[i][j] = temp[0][1]\n",
        "            if count < i:\n",
        "                tempVetorized.append(temp[0][1])\n",
        "                count += 1\n",
        "    Placebo_Aug_1st_Corr_Vetorized.append(tempVetorized)\n",
        "    listPlacebo_Aug_1st_Corr.append(tempCorrMatrix)\n",
        "\n",
        "X_d1_Aug_pl = Drug1_Aug_1st_Corr_Vetorized + Placebo_Aug_1st_Corr_Vetorized\n",
        "X_d1_Aug_pl = np.arctanh(X_d1_Aug_pl)\n",
        "y_d1_Aug_pl = []\n",
        "for label in range(6100):\n",
        "    if label < 2800:\n",
        "        y_d1_Aug_pl.append(1)\n",
        "    else:\n",
        "        y_d1_Aug_pl.append(0)\n",
        "        \n",
        "print(\"Checkpoint2.2\")  "
      ],
      "execution_count": 89,
      "outputs": [
        {
          "output_type": "stream",
          "text": [
            "Checkpoint1\n",
            "Checkpoint2.1\n",
            "Checkpoint2.2\n"
          ],
          "name": "stdout"
        }
      ]
    },
    {
      "metadata": {
        "id": "LyB0kByXxhV5",
        "colab_type": "code",
        "colab": {}
      },
      "cell_type": "code",
      "source": [
        "permutation = np.random.permutation(6100)\n",
        "y_d1_Aug_pl = np.asarray(y_d1_Aug_pl)\n",
        "X_d1_Aug_pl = X_d1_Aug_pl[permutation, :]\n",
        "y_d1_Aug_pl = y_d1_Aug_pl[permutation]"
      ],
      "execution_count": 0,
      "outputs": []
    },
    {
      "metadata": {
        "colab_type": "code",
        "outputId": "a1db0017-a41a-4faa-c1f2-30ca20ba2537",
        "id": "4Vs-SS3eJORY",
        "colab": {
          "base_uri": "https://localhost:8080/",
          "height": 34
        }
      },
      "cell_type": "code",
      "source": [
        "# ======= SVM1 =======\n",
        "clf_d1_Aug_pl = svm.LinearSVC(random_state=0, tol=1e-5, C=1)\n",
        "#clf_d1_Aug_pl = svm.LinearSVC(penalty='l1', C=1.0, dual=False, tol=1e-5)\n",
        "#clf_d1_Aug_pl = svm.SVC()\n",
        "\n",
        "# Train\n",
        "clf_d1_Aug_pl.fit(X_d1_Aug_pl, y_d1_Aug_pl)\n",
        "\n",
        "# Cross Validation\n",
        "cv_results_d1_Aug_pl = cross_validate(clf_d1_Aug_pl, X_d1_Aug_pl, y_d1_Aug_pl, cv=5, return_train_score=False)\n",
        "sorted(cv_results_d1_Aug_pl.keys())                     \n",
        "print(cv_results_d1_Aug_pl['test_score'])"
      ],
      "execution_count": 91,
      "outputs": [
        {
          "output_type": "stream",
          "text": [
            "[0.7852459  0.80491803 0.75819672 0.77131148 0.79180328]\n"
          ],
          "name": "stdout"
        }
      ]
    },
    {
      "metadata": {
        "colab_type": "code",
        "outputId": "d21c43b2-c104-4510-8bf7-b2e5f1e77e0b",
        "id": "lTA5kxKOJIru",
        "colab": {
          "base_uri": "https://localhost:8080/",
          "height": 34
        }
      },
      "cell_type": "code",
      "source": [
        "# ======= SVM2 =======\n",
        "#clf_d1_Aug_pl = svm.LinearSVC(random_state=0, tol=1e-5, C=1)\n",
        "clf_d1_Aug_pl = svm.LinearSVC(penalty='l1', C=1.0, dual=False, tol=1e-5)\n",
        "#clf_d1_Aug_pl = svm.SVC()\n",
        "\n",
        "# Train\n",
        "clf_d1_Aug_pl.fit(X_d1_Aug_pl, y_d1_Aug_pl)\n",
        "#print(clf_d1_pl.predict(X))\n",
        "\n",
        "# Cross Validation\n",
        "cv_results_d1_Aug_pl = cross_validate(clf_d1_Aug_pl, X_d1_Aug_pl, y_d1_Aug_pl, cv=5, return_train_score=False)\n",
        "sorted(cv_results_d1_Aug_pl.keys())                     \n",
        "print(cv_results_d1_Aug_pl['test_score'])"
      ],
      "execution_count": 92,
      "outputs": [
        {
          "output_type": "stream",
          "text": [
            "[0.78360656 0.80163934 0.77786885 0.79016393 0.79180328]\n"
          ],
          "name": "stdout"
        }
      ]
    },
    {
      "metadata": {
        "id": "l0ZUpVv_2znu",
        "colab_type": "text"
      },
      "cell_type": "markdown",
      "source": [
        "# MMM"
      ]
    },
    {
      "metadata": {
        "colab_type": "code",
        "outputId": "96bcb7f3-cbda-4c67-9ca1-65704f6e89ce",
        "id": "GfNRDsRDJIry",
        "colab": {
          "base_uri": "https://localhost:8080/",
          "height": 34
        }
      },
      "cell_type": "code",
      "source": [
        "# ======= SVM3 =======\n",
        "# 100 * 300  GOOD\n",
        "\n",
        "#clf_d1_Aug_pl = svm.LinearSVC(random_state=0, tol=1e-5, C=1)\n",
        "#clf_d1_Aug_pl = svm.LinearSVC(penalty='l1', C=1.0, dual=False, tol=1e-5)\n",
        "clf_d1_Aug_pl = svm.SVC()\n",
        "\n",
        "# Train\n",
        "#clf_d1_Aug_pl.fit(X_d1_Aug_pl, y_d1_Aug_pl)\n",
        "#print(clf_d1_pl.predict(X))\n",
        "\n",
        "# Cross Validation\n",
        "cv_results_d1_Aug_pl = cross_validate(clf_d1_Aug_pl, X_d1_Aug_pl, y_d1_Aug_pl, cv=5, return_train_score=False)\n",
        "sorted(cv_results_d1_Aug_pl.keys())                     \n",
        "print(cv_results_d1_Aug_pl['test_score'])\n",
        "\n"
      ],
      "execution_count": 93,
      "outputs": [
        {
          "output_type": "stream",
          "text": [
            "[0.92786885 0.92295082 0.92786885 0.93688525 0.93852459]\n"
          ],
          "name": "stdout"
        }
      ]
    },
    {
      "metadata": {
        "id": "Ov6MKr6z0V3w",
        "colab_type": "code",
        "colab": {
          "base_uri": "https://localhost:8080/",
          "height": 34
        },
        "outputId": "88271a6c-4a6c-4806-94c8-4c56250053f9"
      },
      "cell_type": "code",
      "source": [
        "clf_d1_Aug_pl.fit(X_d1_Aug_pl[:5000], y_d1_Aug_pl[:5000])\n",
        "l = clf_d1_Aug_pl.predict(X_d1_Aug_pl[5000:])\n",
        "total = 0\n",
        "true = 0\n",
        "for m in l:\n",
        "    if m == y_d1_Aug_pl[total + 5000]:\n",
        "        true += 1\n",
        "    total += 1\n",
        "print(true / total)"
      ],
      "execution_count": 94,
      "outputs": [
        {
          "output_type": "stream",
          "text": [
            "0.9427272727272727\n"
          ],
          "name": "stdout"
        }
      ]
    },
    {
      "metadata": {
        "colab_type": "code",
        "outputId": "95a3896b-993d-49e2-a1c3-8a6b8d912af2",
        "id": "M0Vo6H2UJIr3",
        "colab": {
          "base_uri": "https://localhost:8080/",
          "height": 34
        }
      },
      "cell_type": "code",
      "source": [
        "# ======= SVM4 =======\n",
        "#clf_d1_Aug_pl = svm.LinearSVC(random_state=0, tol=1e-5, C=1)\n",
        "#clf_d1_Aug_pl = svm.LinearSVC(penalty='l1', C=1.0, dual=False, tol=1e-5)\n",
        "#clf_d1_Aug_pl = svm.SVC()\n",
        "clf_d1_Aug_pl = svm.NuSVC()\n",
        "\n",
        "# Train\n",
        "clf_d1_Aug_pl.fit(X_d1_Aug_pl, y_d1_Aug_pl)\n",
        "#print(clf_d1_pl.predict(X))\n",
        "\n",
        "# Cross Validation\n",
        "cv_results_d1_Aug_pl = cross_validate(clf_d1_Aug_pl, X_d1_Aug_pl, y_d1_Aug_pl, cv=5, return_train_score=False)\n",
        "sorted(cv_results_d1_Aug_pl.keys())                     \n",
        "print(cv_results_d1_Aug_pl['test_score'])"
      ],
      "execution_count": 95,
      "outputs": [
        {
          "output_type": "stream",
          "text": [
            "[0.92704918 0.91639344 0.92704918 0.93196721 0.93852459]\n"
          ],
          "name": "stdout"
        }
      ]
    },
    {
      "metadata": {
        "colab_type": "code",
        "outputId": "e436d047-c135-4aa9-a9e2-ad3f9b042060",
        "id": "2uvyLeE3JIsC",
        "colab": {
          "base_uri": "https://localhost:8080/",
          "height": 34
        }
      },
      "cell_type": "code",
      "source": [
        "# ======= RF =======\n",
        "# 100 * 300  GOOD\n",
        "\n",
        "clf_d1_Aug_pl = RandomForestClassifier(n_jobs=1, random_state=0)\n",
        "clf_d1_Aug_pl.fit(X_d1_Aug_pl, y_d1_Aug_pl)\n",
        "\n",
        "# Cross Validation\n",
        "cv_results_d1_Aug_pl = cross_validate(clf_d1_Aug_pl, X_d1_Aug_pl, y_d1_Aug_pl, cv=5, return_train_score=False)\n",
        "sorted(cv_results_d1_Aug_pl.keys())                     \n",
        "print(cv_results_d1_Aug_pl['test_score'])"
      ],
      "execution_count": 96,
      "outputs": [
        {
          "output_type": "stream",
          "text": [
            "[0.91885246 0.91393443 0.91065574 0.89672131 0.91803279]\n"
          ],
          "name": "stdout"
        }
      ]
    },
    {
      "metadata": {
        "id": "doHI4M-IP8tR",
        "colab_type": "text"
      },
      "cell_type": "markdown",
      "source": [
        "## 100 X 300"
      ]
    },
    {
      "metadata": {
        "id": "DVHw5LCzP-qf",
        "colab_type": "code",
        "colab": {
          "base_uri": "https://localhost:8080/",
          "height": 68
        },
        "outputId": "b62751f3-3879-44dd-db7c-64a1b241db44"
      },
      "cell_type": "code",
      "source": [
        "# ==== ==== ==== ==== Drug1st AUGMENTATION and Placebo 1st AUGMENTATION==== ==== ==== ==== 100 * 300\n",
        "#''' ↓ Following is the same as prev lines, just for reload the data.\n",
        "\n",
        "\n",
        "listDrug1 = []\n",
        "listDrug1_Aug = [] # 2800\n",
        "listPlacebo = []\n",
        "listPlacebo_Aug = [] # 3300\n",
        "\n",
        "for i in range(28):\n",
        "    listDrug1.append(listDrug1ReadDict[i][0][0])\n",
        "for i in range(28):\n",
        "    listDrug1[i] = listDrug1[i][:2800, : ,] \n",
        "for i in range(28):\n",
        "    for j in range(100): # Split into 100 * 300 time samples \n",
        "        randNum = np.random.randint(0,2500)\n",
        "        listDrug1_Aug.append(listDrug1[i][randNum:randNum + 300, : ,])\n",
        "    \n",
        "for i in range(33):\n",
        "    listPlacebo.append(listPlaceboReadDict[i][0][0])\n",
        "for i in range(33):\n",
        "    listPlacebo[i] = listPlacebo[i][:2800, : ,]\n",
        "for i in range(33):\n",
        "    for j in range(100):\n",
        "        randNum = np.random.randint(0,2500)\n",
        "        listPlacebo_Aug.append(listPlacebo[i][randNum:randNum + 300, : ,])\n",
        "\n",
        "# just use 1st channel\n",
        "for i in range(2800):\n",
        "    listDrug1_Aug[i] = listDrug1_Aug[i][:,0,]\n",
        "for i in range(3300):\n",
        "    listPlacebo_Aug[i] = listPlacebo_Aug[i][:,0,]\n",
        "\n",
        "print(\"Checkpoint1\")         \n",
        " #''' ↑ Following is the same as prev lines, just for reload the data.\n",
        " \n",
        " \n",
        "listDrug1_Aug_1st_Corr = []\n",
        "Drug1_Aug_1st_Corr_Vetorized = []\n",
        "for ID in range(2800):\n",
        "    tempCorrMatrix = np.identity(20)\n",
        "    tempVetorized = []\n",
        "    for i in range(20):\n",
        "        count = 0\n",
        "        for j in range(20):\n",
        "            if i == j :\n",
        "                continue\n",
        "            temp = np.corrcoef(listDrug1_Aug[ID][:,i],  listDrug1_Aug[ID][:,j])\n",
        "            tempCorrMatrix[i][j] = temp[0][1]\n",
        "            if count < i:\n",
        "                tempVetorized.append(temp[0][1])\n",
        "                count += 1\n",
        "    Drug1_Aug_1st_Corr_Vetorized.append(tempVetorized)\n",
        "    listDrug1_Aug_1st_Corr.append(tempCorrMatrix)\n",
        "\n",
        "print(\"Checkpoint2.1\") \n",
        "# listPlacebo_1st_P Correalation\n",
        "listPlacebo_Aug_1st_Corr = []\n",
        "Placebo_Aug_1st_Corr_Vetorized = []\n",
        "for ID in range(3300):\n",
        "    tempCorrMatrix = np.identity(20)\n",
        "    tempVetorized = []\n",
        "    for i in range(20):\n",
        "        count = 0\n",
        "        for j in range(20):\n",
        "            if i == j :\n",
        "                continue\n",
        "            temp = np.corrcoef(listPlacebo_Aug[ID][:,i],  listPlacebo_Aug[ID][:,j])\n",
        "            tempCorrMatrix[i][j] = temp[0][1]\n",
        "            if count < i:\n",
        "                tempVetorized.append(temp[0][1])\n",
        "                count += 1\n",
        "    Placebo_Aug_1st_Corr_Vetorized.append(tempVetorized)\n",
        "    listPlacebo_Aug_1st_Corr.append(tempCorrMatrix)\n",
        "\n",
        "X_d1_Aug_pl = Drug1_Aug_1st_Corr_Vetorized + Placebo_Aug_1st_Corr_Vetorized\n",
        "X_d1_Aug_pl = np.arctanh(X_d1_Aug_pl)\n",
        "y_d1_Aug_pl = []\n",
        "for label in range(6100):\n",
        "    if label < 2800:\n",
        "        y_d1_Aug_pl.append(1)\n",
        "    else:\n",
        "        y_d1_Aug_pl.append(0)\n",
        "        \n",
        "print(\"Checkpoint2.2\")  "
      ],
      "execution_count": 97,
      "outputs": [
        {
          "output_type": "stream",
          "text": [
            "Checkpoint1\n",
            "Checkpoint2.1\n",
            "Checkpoint2.2\n"
          ],
          "name": "stdout"
        }
      ]
    },
    {
      "metadata": {
        "id": "ALhWTAlrbdk2",
        "colab_type": "code",
        "colab": {}
      },
      "cell_type": "code",
      "source": [
        "permutation = np.random.permutation(6100)\n",
        "y_d1_Aug_pl = np.asarray(y_d1_Aug_pl)\n",
        "X_d1_Aug_pl = X_d1_Aug_pl[permutation, :]\n",
        "y_d1_Aug_pl = y_d1_Aug_pl[permutation]"
      ],
      "execution_count": 0,
      "outputs": []
    },
    {
      "metadata": {
        "colab_type": "code",
        "outputId": "100a00d4-a68f-4177-c4a0-c7c0b7e1914b",
        "id": "GnO39IAWQEzc",
        "colab": {
          "base_uri": "https://localhost:8080/",
          "height": 34
        }
      },
      "cell_type": "code",
      "source": [
        "# ======= SVM1 =======\n",
        "clf_d1_Aug_pl = svm.LinearSVC(random_state=0, tol=1e-5, C=1)\n",
        "#clf_d1_Aug_pl = svm.LinearSVC(penalty='l1', C=1.0, dual=False, tol=1e-5)\n",
        "#clf_d1_Aug_pl = svm.SVC()\n",
        "\n",
        "# Train\n",
        "clf_d1_Aug_pl.fit(X_d1_Aug_pl, y_d1_Aug_pl)\n",
        "\n",
        "# Cross Validation\n",
        "cv_results_d1_Aug_pl = cross_validate(clf_d1_Aug_pl, X_d1_Aug_pl, y_d1_Aug_pl, cv=5, return_train_score=False)\n",
        "sorted(cv_results_d1_Aug_pl.keys())                     \n",
        "print(cv_results_d1_Aug_pl['test_score'])"
      ],
      "execution_count": 99,
      "outputs": [
        {
          "output_type": "stream",
          "text": [
            "[0.81721311 0.79836066 0.80163934 0.80819672 0.81557377]\n"
          ],
          "name": "stdout"
        }
      ]
    },
    {
      "metadata": {
        "colab_type": "code",
        "outputId": "444fd963-5eef-4946-9163-7a68152dcbd2",
        "id": "3PGcf5fKQEzg",
        "colab": {
          "base_uri": "https://localhost:8080/",
          "height": 34
        }
      },
      "cell_type": "code",
      "source": [
        "# ======= SVM2 =======\n",
        "#clf_d1_Aug_pl = svm.LinearSVC(random_state=0, tol=1e-5, C=1)\n",
        "clf_d1_Aug_pl = svm.LinearSVC(penalty='l1', C=1.0, dual=False, tol=1e-5)\n",
        "#clf_d1_Aug_pl = svm.SVC()\n",
        "\n",
        "# Train\n",
        "clf_d1_Aug_pl.fit(X_d1_Aug_pl, y_d1_Aug_pl)\n",
        "#print(clf_d1_pl.predict(X))\n",
        "\n",
        "# Cross Validation\n",
        "cv_results_d1_Aug_pl = cross_validate(clf_d1_Aug_pl, X_d1_Aug_pl, y_d1_Aug_pl, cv=5, return_train_score=False)\n",
        "sorted(cv_results_d1_Aug_pl.keys())                     \n",
        "print(cv_results_d1_Aug_pl['test_score'])"
      ],
      "execution_count": 100,
      "outputs": [
        {
          "output_type": "stream",
          "text": [
            "[0.81885246 0.8057377  0.8295082  0.81639344 0.81311475]\n"
          ],
          "name": "stdout"
        }
      ]
    },
    {
      "metadata": {
        "colab_type": "code",
        "outputId": "0c4b9fb4-bc7c-4c7e-a300-4f0d5fd35e78",
        "id": "_XFRY-8KQEzk",
        "colab": {
          "base_uri": "https://localhost:8080/",
          "height": 34
        }
      },
      "cell_type": "code",
      "source": [
        "# ======= SVM3 =======\n",
        "# 100 * 300  GOOD\n",
        "\n",
        "#clf_d1_Aug_pl = svm.LinearSVC(random_state=0, tol=1e-5, C=1)\n",
        "#clf_d1_Aug_pl = svm.LinearSVC(penalty='l1', C=1.0, dual=False, tol=1e-5)\n",
        "clf_d1_Aug_pl = svm.SVC()\n",
        "\n",
        "# Train\n",
        "clf_d1_Aug_pl.fit(X_d1_Aug_pl, y_d1_Aug_pl)\n",
        "#print(clf_d1_pl.predict(X))\n",
        "\n",
        "# Cross Validation\n",
        "cv_results_d1_Aug_pl = cross_validate(clf_d1_Aug_pl, X_d1_Aug_pl, y_d1_Aug_pl, cv=5, return_train_score=False)\n",
        "sorted(cv_results_d1_Aug_pl.keys())                     \n",
        "print(cv_results_d1_Aug_pl['test_score'])"
      ],
      "execution_count": 101,
      "outputs": [
        {
          "output_type": "stream",
          "text": [
            "[0.96065574 0.95       0.95       0.95983607 0.95737705]\n"
          ],
          "name": "stdout"
        }
      ]
    },
    {
      "metadata": {
        "colab_type": "code",
        "outputId": "a3fba407-188c-46fe-dbdc-e6787a613b57",
        "id": "dw2dqdnkQEzq",
        "colab": {
          "base_uri": "https://localhost:8080/",
          "height": 34
        }
      },
      "cell_type": "code",
      "source": [
        "# ======= SVM4 =======\n",
        "#clf_d1_Aug_pl = svm.LinearSVC(random_state=0, tol=1e-5, C=1)\n",
        "#clf_d1_Aug_pl = svm.LinearSVC(penalty='l1', C=1.0, dual=False, tol=1e-5)\n",
        "#clf_d1_Aug_pl = svm.SVC()\n",
        "clf_d1_Aug_pl = clf_d1_Aug_pl = svm.NuSVC()\n",
        "\n",
        "# Train\n",
        "clf_d1_Aug_pl.fit(X_d1_Aug_pl, y_d1_Aug_pl)\n",
        "#print(clf_d1_pl.predict(X))\n",
        "\n",
        "# Cross Validation\n",
        "cv_results_d1_Aug_pl = cross_validate(clf_d1_Aug_pl, X_d1_Aug_pl, y_d1_Aug_pl, cv=5, return_train_score=False)\n",
        "sorted(cv_results_d1_Aug_pl.keys())                     \n",
        "print(cv_results_d1_Aug_pl['test_score'])"
      ],
      "execution_count": 102,
      "outputs": [
        {
          "output_type": "stream",
          "text": [
            "[0.95327869 0.94098361 0.93688525 0.95491803 0.95409836]\n"
          ],
          "name": "stdout"
        }
      ]
    },
    {
      "metadata": {
        "colab_type": "code",
        "outputId": "ad37dc9c-db76-46a2-95bf-409f7e8f3b81",
        "id": "hqpBnWqdQEzs",
        "colab": {
          "base_uri": "https://localhost:8080/",
          "height": 34
        }
      },
      "cell_type": "code",
      "source": [
        "# ======= RF =======\n",
        "# 100 * 300  GOOD\n",
        "\n",
        "clf_d1_Aug_pl = RandomForestClassifier(n_jobs=1, random_state=0)\n",
        "clf_d1_Aug_pl.fit(X_d1_Aug_pl, y_d1_Aug_pl)\n",
        "\n",
        "# Cross Validation\n",
        "cv_results_d1_Aug_pl = cross_validate(clf_d1_Aug_pl, X_d1_Aug_pl, y_d1_Aug_pl, cv=5, return_train_score=False)\n",
        "sorted(cv_results_d1_Aug_pl.keys())                     \n",
        "print(cv_results_d1_Aug_pl['test_score'])"
      ],
      "execution_count": 103,
      "outputs": [
        {
          "output_type": "stream",
          "text": [
            "[0.92868852 0.93770492 0.93606557 0.94590164 0.93770492]\n"
          ],
          "name": "stdout"
        }
      ]
    },
    {
      "metadata": {
        "id": "X17aQ12WU5Gl",
        "colab_type": "text"
      },
      "cell_type": "markdown",
      "source": [
        "## 50 X 200"
      ]
    },
    {
      "metadata": {
        "id": "ylAMGwJ9UtMU",
        "colab_type": "code",
        "colab": {
          "base_uri": "https://localhost:8080/",
          "height": 68
        },
        "outputId": "94884e7c-8784-427e-9878-d365fdeab5db"
      },
      "cell_type": "code",
      "source": [
        "# ==== ==== ==== ==== Drug1st AUGMENTATION and Placebo 1st AUGMENTATION==== ==== ==== ==== 100 * 300\n",
        "#''' ↓ Following is the same as prev lines, just for reload the data.\n",
        "\n",
        "\n",
        "listDrug1 = []\n",
        "listDrug1_Aug = [] # 1400\n",
        "listPlacebo = []\n",
        "listPlacebo_Aug = [] # 1650\n",
        "\n",
        "for i in range(28):\n",
        "    listDrug1.append(listDrug1ReadDict[i][0][0])\n",
        "for i in range(28):\n",
        "    listDrug1[i] = listDrug1[i][:2800, : ,] \n",
        "for i in range(28):\n",
        "    for j in range(50): # Split into 100 * 250 time samples \n",
        "        randNum = np.random.randint(0,2600)\n",
        "        listDrug1_Aug.append(listDrug1[i][randNum:randNum + 200, : ,])\n",
        "    \n",
        "for i in range(33):\n",
        "    listPlacebo.append(listPlaceboReadDict[i][0][0])\n",
        "for i in range(33):\n",
        "    listPlacebo[i] = listPlacebo[i][:2800, : ,]\n",
        "for i in range(33):\n",
        "    for j in range(50):\n",
        "        randNum = np.random.randint(0,2600)\n",
        "        listPlacebo_Aug.append(listPlacebo[i][randNum:randNum + 200, : ,])\n",
        "\n",
        "# just use 1st channel\n",
        "for i in range(1400):\n",
        "    listDrug1_Aug[i] = listDrug1_Aug[i][:,0,]\n",
        "for i in range(1650):\n",
        "    listPlacebo_Aug[i] = listPlacebo_Aug[i][:,0,]\n",
        "\n",
        "print(\"Checkpoint1\")         \n",
        " #''' ↑ Following is the same as prev lines, just for reload the data.\n",
        " \n",
        " \n",
        "listDrug1_Aug_1st_Corr = []\n",
        "Drug1_Aug_1st_Corr_Vetorized = []\n",
        "for ID in range(1400):\n",
        "    tempCorrMatrix = np.identity(20)\n",
        "    tempVetorized = []\n",
        "    for i in range(20):\n",
        "        count = 0\n",
        "        for j in range(20):\n",
        "            if i == j :\n",
        "                continue\n",
        "            temp = np.corrcoef(listDrug1_Aug[ID][:,i],  listDrug1_Aug[ID][:,j])\n",
        "            tempCorrMatrix[i][j] = temp[0][1]\n",
        "            if count < i:\n",
        "                tempVetorized.append(temp[0][1])\n",
        "                count += 1\n",
        "    Drug1_Aug_1st_Corr_Vetorized.append(tempVetorized)\n",
        "    listDrug1_Aug_1st_Corr.append(tempCorrMatrix)\n",
        "\n",
        "print(\"Checkpoint2.1\") \n",
        "# listPlacebo_1st_P Correalation\n",
        "listPlacebo_Aug_1st_Corr = []\n",
        "Placebo_Aug_1st_Corr_Vetorized = []\n",
        "for ID in range(1650):\n",
        "    tempCorrMatrix = np.identity(20)\n",
        "    tempVetorized = []\n",
        "    for i in range(20):\n",
        "        count = 0\n",
        "        for j in range(20):\n",
        "            if i == j :\n",
        "                continue\n",
        "            temp = np.corrcoef(listPlacebo_Aug[ID][:,i],  listPlacebo_Aug[ID][:,j])\n",
        "            tempCorrMatrix[i][j] = temp[0][1]\n",
        "            if count < i:\n",
        "                tempVetorized.append(temp[0][1])\n",
        "                count += 1\n",
        "    Placebo_Aug_1st_Corr_Vetorized.append(tempVetorized)\n",
        "    listPlacebo_Aug_1st_Corr.append(tempCorrMatrix)\n",
        "\n",
        "X_d1_Aug_pl = Drug1_Aug_1st_Corr_Vetorized + Placebo_Aug_1st_Corr_Vetorized\n",
        "X_d1_Aug_pl = np.arctanh(X_d1_Aug_pl)\n",
        "y_d1_Aug_pl = []\n",
        "for label in range(3050):\n",
        "    if label < 1400:\n",
        "        y_d1_Aug_pl.append(1)\n",
        "    else:\n",
        "        y_d1_Aug_pl.append(0)\n",
        "        \n",
        "print(\"Checkpoint2.2\")  "
      ],
      "execution_count": 105,
      "outputs": [
        {
          "output_type": "stream",
          "text": [
            "Checkpoint1\n",
            "Checkpoint2.1\n",
            "Checkpoint2.2\n"
          ],
          "name": "stdout"
        }
      ]
    },
    {
      "metadata": {
        "colab_type": "code",
        "id": "Pdg4vfTeU3t4",
        "colab": {}
      },
      "cell_type": "code",
      "source": [
        "permutation = np.random.permutation(3050)\n",
        "y_d1_Aug_pl = np.asarray(y_d1_Aug_pl)\n",
        "X_d1_Aug_pl = X_d1_Aug_pl[permutation, :]\n",
        "y_d1_Aug_pl = y_d1_Aug_pl[permutation]"
      ],
      "execution_count": 0,
      "outputs": []
    },
    {
      "metadata": {
        "colab_type": "code",
        "outputId": "11aea5fa-d76c-42b8-fc1a-070deead574d",
        "id": "1T2cvRTUU3t5",
        "colab": {
          "base_uri": "https://localhost:8080/",
          "height": 34
        }
      },
      "cell_type": "code",
      "source": [
        "# ======= SVM1 =======\n",
        "clf_d1_Aug_pl = svm.LinearSVC(random_state=0, tol=1e-5, C=1)\n",
        "#clf_d1_Aug_pl = svm.LinearSVC(penalty='l1', C=1.0, dual=False, tol=1e-5)\n",
        "#clf_d1_Aug_pl = svm.SVC()\n",
        "\n",
        "# Train\n",
        "clf_d1_Aug_pl.fit(X_d1_Aug_pl, y_d1_Aug_pl)\n",
        "\n",
        "# Cross Validation\n",
        "cv_results_d1_Aug_pl = cross_validate(clf_d1_Aug_pl, X_d1_Aug_pl, y_d1_Aug_pl, cv=5, return_train_score=False)\n",
        "sorted(cv_results_d1_Aug_pl.keys())                     \n",
        "print(cv_results_d1_Aug_pl['test_score'])"
      ],
      "execution_count": 108,
      "outputs": [
        {
          "output_type": "stream",
          "text": [
            "[0.76229508 0.7147541  0.72295082 0.7295082  0.70163934]\n"
          ],
          "name": "stdout"
        }
      ]
    },
    {
      "metadata": {
        "colab_type": "code",
        "outputId": "2f46e85d-e096-4280-e586-24fec5851545",
        "id": "HH-02DIwU3t_",
        "colab": {
          "base_uri": "https://localhost:8080/",
          "height": 34
        }
      },
      "cell_type": "code",
      "source": [
        "# ======= SVM2 =======\n",
        "#clf_d1_Aug_pl = svm.LinearSVC(random_state=0, tol=1e-5, C=1)\n",
        "clf_d1_Aug_pl = svm.LinearSVC(penalty='l1', C=1.0, dual=False, tol=1e-5)\n",
        "#clf_d1_Aug_pl = svm.SVC()\n",
        "\n",
        "# Train\n",
        "clf_d1_Aug_pl.fit(X_d1_Aug_pl, y_d1_Aug_pl)\n",
        "#print(clf_d1_pl.predict(X))\n",
        "\n",
        "# Cross Validation\n",
        "cv_results_d1_Aug_pl = cross_validate(clf_d1_Aug_pl, X_d1_Aug_pl, y_d1_Aug_pl, cv=5, return_train_score=False)\n",
        "sorted(cv_results_d1_Aug_pl.keys())                     \n",
        "print(cv_results_d1_Aug_pl['test_score'])"
      ],
      "execution_count": 109,
      "outputs": [
        {
          "output_type": "stream",
          "text": [
            "[0.76393443 0.72786885 0.74590164 0.74918033 0.75245902]\n"
          ],
          "name": "stdout"
        }
      ]
    },
    {
      "metadata": {
        "colab_type": "code",
        "outputId": "69c97cea-7b17-437a-c61f-c60ea9ce1a1a",
        "id": "GNj_Wv6eU3uA",
        "colab": {
          "base_uri": "https://localhost:8080/",
          "height": 34
        }
      },
      "cell_type": "code",
      "source": [
        "# ======= SVM3 =======\n",
        "# 100 * 300  GOOD\n",
        "\n",
        "#clf_d1_Aug_pl = svm.LinearSVC(random_state=0, tol=1e-5, C=1)\n",
        "#clf_d1_Aug_pl = svm.LinearSVC(penalty='l1', C=1.0, dual=False, tol=1e-5)\n",
        "clf_d1_Aug_pl = svm.SVC()\n",
        "\n",
        "# Train\n",
        "#clf_d1_Aug_pl.fit(X_d1_Aug_pl, y_d1_Aug_pl)\n",
        "#print(clf_d1_pl.predict(X))\n",
        "\n",
        "# Cross Validation\n",
        "cv_results_d1_Aug_pl = cross_validate(clf_d1_Aug_pl, X_d1_Aug_pl, y_d1_Aug_pl, cv=5, return_train_score=False)\n",
        "sorted(cv_results_d1_Aug_pl.keys())                     \n",
        "print(cv_results_d1_Aug_pl['test_score'])\n",
        "\n"
      ],
      "execution_count": 110,
      "outputs": [
        {
          "output_type": "stream",
          "text": [
            "[0.86721311 0.86393443 0.83278689 0.86229508 0.87540984]\n"
          ],
          "name": "stdout"
        }
      ]
    },
    {
      "metadata": {
        "colab_type": "code",
        "outputId": "cf7d9335-460e-41ec-b79b-dfcf5cf4cc95",
        "id": "hvuJ1WCWU3uE",
        "colab": {
          "base_uri": "https://localhost:8080/",
          "height": 34
        }
      },
      "cell_type": "code",
      "source": [
        "# ======= SVM4 =======\n",
        "#clf_d1_Aug_pl = svm.LinearSVC(random_state=0, tol=1e-5, C=1)\n",
        "#clf_d1_Aug_pl = svm.LinearSVC(penalty='l1', C=1.0, dual=False, tol=1e-5)\n",
        "#clf_d1_Aug_pl = svm.SVC()\n",
        "clf_d1_Aug_pl = svm.NuSVC()\n",
        "\n",
        "# Train\n",
        "clf_d1_Aug_pl.fit(X_d1_Aug_pl, y_d1_Aug_pl)\n",
        "#print(clf_d1_pl.predict(X))\n",
        "\n",
        "# Cross Validation\n",
        "cv_results_d1_Aug_pl = cross_validate(clf_d1_Aug_pl, X_d1_Aug_pl, y_d1_Aug_pl, cv=5, return_train_score=False)\n",
        "sorted(cv_results_d1_Aug_pl.keys())                     \n",
        "print(cv_results_d1_Aug_pl['test_score'])"
      ],
      "execution_count": 111,
      "outputs": [
        {
          "output_type": "stream",
          "text": [
            "[0.91147541 0.89836066 0.86885246 0.88688525 0.89672131]\n"
          ],
          "name": "stdout"
        }
      ]
    },
    {
      "metadata": {
        "colab_type": "code",
        "outputId": "a5f0b522-55e4-4d8d-e0c9-3b5fa6c3cdf4",
        "id": "cazns2_KU3uI",
        "colab": {
          "base_uri": "https://localhost:8080/",
          "height": 34
        }
      },
      "cell_type": "code",
      "source": [
        "# ======= RF =======\n",
        "# 100 * 300  GOOD\n",
        "\n",
        "clf_d1_Aug_pl = RandomForestClassifier(n_jobs=1, random_state=0)\n",
        "clf_d1_Aug_pl.fit(X_d1_Aug_pl, y_d1_Aug_pl)\n",
        "\n",
        "# Cross Validation\n",
        "cv_results_d1_Aug_pl = cross_validate(clf_d1_Aug_pl, X_d1_Aug_pl, y_d1_Aug_pl, cv=5, return_train_score=False)\n",
        "sorted(cv_results_d1_Aug_pl.keys())                     \n",
        "print(cv_results_d1_Aug_pl['test_score'])"
      ],
      "execution_count": 112,
      "outputs": [
        {
          "output_type": "stream",
          "text": [
            "[0.80655738 0.79344262 0.8        0.8        0.79016393]\n"
          ],
          "name": "stdout"
        }
      ]
    },
    {
      "metadata": {
        "id": "gqmU3PU1SvcZ",
        "colab_type": "text"
      },
      "cell_type": "markdown",
      "source": [
        "# LSTM _ Keras"
      ]
    },
    {
      "metadata": {
        "id": "aNZKelVKqmYt",
        "colab_type": "code",
        "colab": {
          "base_uri": "https://localhost:8080/",
          "height": 1051
        },
        "outputId": "e0536ae8-b072-49ba-b57f-4428dcf13e29"
      },
      "cell_type": "code",
      "source": [
        "from keras.layers import Dense, Dropout, LSTM, Embedding\n",
        "from keras.preprocessing.sequence import pad_sequences\n",
        "from keras.models import Sequential\n",
        "import pandas as pd\n",
        "import numpy as np\n",
        "\n",
        "'''\n",
        "input_file = 'input.csv'\n",
        "\n",
        "def load_data(test_split = 0.2):\n",
        "    print ('Loading data...')\n",
        "    df = pd.read_csv(input_file)\n",
        "    df['sequence'] = df['sequence'].apply(lambda x: [int(e) for e in x.split()])\n",
        "    df = df.reindex(np.random.permutation(df.index))\n",
        "\n",
        "    train_size = int(len(df) * (1 - test_split))\n",
        "\n",
        "    X_train = df['sequence'].values[:train_size]\n",
        "    y_train = np.array(df['target'].values[:train_size])\n",
        "    X_test = np.array(df['sequence'].values[train_size:])\n",
        "    y_test = np.array(df['target'].values[train_size:])\n",
        "\n",
        "    return pad_sequences(X_train), y_train, pad_sequences(X_test), y_test\n",
        "\n",
        "'''\n",
        "\n",
        "(X_d1_Aug_pl, y_d1_Aug_pl)\n",
        "\n",
        "\n",
        "\n",
        "def create_model(input_length):\n",
        "    print ('Creating model...')\n",
        "    model = Sequential()\n",
        "    model.add(Embedding(input_dim = 188, output_dim = 50, input_length = input_length))\n",
        "    model.add(LSTM(output_dim=256, activation='sigmoid', inner_activation='hard_sigmoid', return_sequences=True))\n",
        "    model.add(Dropout(0.5))\n",
        "    model.add(LSTM(output_dim=256, activation='sigmoid', inner_activation='hard_sigmoid'))\n",
        "    model.add(Dropout(0.5))\n",
        "    model.add(Dense(1, activation='sigmoid'))\n",
        "\n",
        "    print ('Compiling...')\n",
        "    model.compile(loss='binary_crossentropy',\n",
        "                  optimizer='rmsprop',\n",
        "                  metrics=['accuracy'])\n",
        "    return model\n",
        "\n",
        "\n",
        "X_train = X_d1_Aug_pl[: 5000]\n",
        "y_train = y_d1_Aug_pl[: 5000]\n",
        "X_test = X_d1_Aug_pl[5000:]\n",
        "y_test = y_d1_Aug_pl[5000:]\n",
        "\n",
        "model = create_model(len(X_train[0]))\n",
        "\n",
        "print ('Fitting model...')\n",
        "hist = model.fit(X_train, y_train, batch_size=64, epochs=2, validation_split = 0.1, verbose = 1)\n",
        "\n",
        "score, acc = model.evaluate(X_test, y_test, batch_size=1)\n",
        "print('Test score:', score)\n",
        "print('Test accuracy:', acc)"
      ],
      "execution_count": 21,
      "outputs": [
        {
          "output_type": "stream",
          "text": [
            "Using TensorFlow backend.\n"
          ],
          "name": "stderr"
        },
        {
          "output_type": "stream",
          "text": [
            "Creating model...\n"
          ],
          "name": "stdout"
        },
        {
          "output_type": "stream",
          "text": [
            "/usr/local/lib/python3.6/dist-packages/ipykernel_launcher.py:35: UserWarning: Update your `LSTM` call to the Keras 2 API: `LSTM(activation=\"sigmoid\", return_sequences=True, units=256, recurrent_activation=\"hard_sigmoid\")`\n",
            "/usr/local/lib/python3.6/dist-packages/ipykernel_launcher.py:37: UserWarning: Update your `LSTM` call to the Keras 2 API: `LSTM(activation=\"sigmoid\", units=256, recurrent_activation=\"hard_sigmoid\")`\n"
          ],
          "name": "stderr"
        },
        {
          "output_type": "stream",
          "text": [
            "Compiling...\n",
            "Fitting model...\n",
            "Train on 4500 samples, validate on 500 samples\n",
            "Epoch 1/2\n",
            "4500/4500 [==============================] - 74s 16ms/step - loss: 0.7258 - acc: 0.5200 - val_loss: 0.6857 - val_acc: 0.5620\n",
            "Epoch 2/2\n",
            "4500/4500 [==============================] - 71s 16ms/step - loss: 0.7101 - acc: 0.5002 - val_loss: 0.6874 - val_acc: 0.5620\n",
            "  97/1100 [=>............................] - ETA: 7:19"
          ],
          "name": "stdout"
        },
        {
          "output_type": "error",
          "ename": "KeyboardInterrupt",
          "evalue": "ignored",
          "traceback": [
            "\u001b[0;31m---------------------------------------------------------------------------\u001b[0m",
            "\u001b[0;31mKeyboardInterrupt\u001b[0m                         Traceback (most recent call last)",
            "\u001b[0;32m<ipython-input-21-96f3d230ccb4>\u001b[0m in \u001b[0;36m<module>\u001b[0;34m()\u001b[0m\n\u001b[1;32m     56\u001b[0m \u001b[0mhist\u001b[0m \u001b[0;34m=\u001b[0m \u001b[0mmodel\u001b[0m\u001b[0;34m.\u001b[0m\u001b[0mfit\u001b[0m\u001b[0;34m(\u001b[0m\u001b[0mX_train\u001b[0m\u001b[0;34m,\u001b[0m \u001b[0my_train\u001b[0m\u001b[0;34m,\u001b[0m \u001b[0mbatch_size\u001b[0m\u001b[0;34m=\u001b[0m\u001b[0;36m64\u001b[0m\u001b[0;34m,\u001b[0m \u001b[0mepochs\u001b[0m\u001b[0;34m=\u001b[0m\u001b[0;36m2\u001b[0m\u001b[0;34m,\u001b[0m \u001b[0mvalidation_split\u001b[0m \u001b[0;34m=\u001b[0m \u001b[0;36m0.1\u001b[0m\u001b[0;34m,\u001b[0m \u001b[0mverbose\u001b[0m \u001b[0;34m=\u001b[0m \u001b[0;36m1\u001b[0m\u001b[0;34m)\u001b[0m\u001b[0;34m\u001b[0m\u001b[0;34m\u001b[0m\u001b[0m\n\u001b[1;32m     57\u001b[0m \u001b[0;34m\u001b[0m\u001b[0m\n\u001b[0;32m---> 58\u001b[0;31m \u001b[0mscore\u001b[0m\u001b[0;34m,\u001b[0m \u001b[0macc\u001b[0m \u001b[0;34m=\u001b[0m \u001b[0mmodel\u001b[0m\u001b[0;34m.\u001b[0m\u001b[0mevaluate\u001b[0m\u001b[0;34m(\u001b[0m\u001b[0mX_test\u001b[0m\u001b[0;34m,\u001b[0m \u001b[0my_test\u001b[0m\u001b[0;34m,\u001b[0m \u001b[0mbatch_size\u001b[0m\u001b[0;34m=\u001b[0m\u001b[0;36m1\u001b[0m\u001b[0;34m)\u001b[0m\u001b[0;34m\u001b[0m\u001b[0;34m\u001b[0m\u001b[0m\n\u001b[0m\u001b[1;32m     59\u001b[0m \u001b[0mprint\u001b[0m\u001b[0;34m(\u001b[0m\u001b[0;34m'Test score:'\u001b[0m\u001b[0;34m,\u001b[0m \u001b[0mscore\u001b[0m\u001b[0;34m)\u001b[0m\u001b[0;34m\u001b[0m\u001b[0;34m\u001b[0m\u001b[0m\n\u001b[1;32m     60\u001b[0m \u001b[0mprint\u001b[0m\u001b[0;34m(\u001b[0m\u001b[0;34m'Test accuracy:'\u001b[0m\u001b[0;34m,\u001b[0m \u001b[0macc\u001b[0m\u001b[0;34m)\u001b[0m\u001b[0;34m\u001b[0m\u001b[0;34m\u001b[0m\u001b[0m\n",
            "\u001b[0;32m/usr/local/lib/python3.6/dist-packages/keras/engine/training.py\u001b[0m in \u001b[0;36mevaluate\u001b[0;34m(self, x, y, batch_size, verbose, sample_weight, steps)\u001b[0m\n\u001b[1;32m   1111\u001b[0m                                          \u001b[0mbatch_size\u001b[0m\u001b[0;34m=\u001b[0m\u001b[0mbatch_size\u001b[0m\u001b[0;34m,\u001b[0m\u001b[0;34m\u001b[0m\u001b[0;34m\u001b[0m\u001b[0m\n\u001b[1;32m   1112\u001b[0m                                          \u001b[0mverbose\u001b[0m\u001b[0;34m=\u001b[0m\u001b[0mverbose\u001b[0m\u001b[0;34m,\u001b[0m\u001b[0;34m\u001b[0m\u001b[0;34m\u001b[0m\u001b[0m\n\u001b[0;32m-> 1113\u001b[0;31m                                          steps=steps)\n\u001b[0m\u001b[1;32m   1114\u001b[0m \u001b[0;34m\u001b[0m\u001b[0m\n\u001b[1;32m   1115\u001b[0m     def predict(self, x,\n",
            "\u001b[0;32m/usr/local/lib/python3.6/dist-packages/keras/engine/training_arrays.py\u001b[0m in \u001b[0;36mtest_loop\u001b[0;34m(model, f, ins, batch_size, verbose, steps)\u001b[0m\n\u001b[1;32m    390\u001b[0m                 \u001b[0mins_batch\u001b[0m\u001b[0;34m[\u001b[0m\u001b[0mi\u001b[0m\u001b[0;34m]\u001b[0m \u001b[0;34m=\u001b[0m \u001b[0mins_batch\u001b[0m\u001b[0;34m[\u001b[0m\u001b[0mi\u001b[0m\u001b[0;34m]\u001b[0m\u001b[0;34m.\u001b[0m\u001b[0mtoarray\u001b[0m\u001b[0;34m(\u001b[0m\u001b[0;34m)\u001b[0m\u001b[0;34m\u001b[0m\u001b[0;34m\u001b[0m\u001b[0m\n\u001b[1;32m    391\u001b[0m \u001b[0;34m\u001b[0m\u001b[0m\n\u001b[0;32m--> 392\u001b[0;31m             \u001b[0mbatch_outs\u001b[0m \u001b[0;34m=\u001b[0m \u001b[0mf\u001b[0m\u001b[0;34m(\u001b[0m\u001b[0mins_batch\u001b[0m\u001b[0;34m)\u001b[0m\u001b[0;34m\u001b[0m\u001b[0;34m\u001b[0m\u001b[0m\n\u001b[0m\u001b[1;32m    393\u001b[0m             \u001b[0;32mif\u001b[0m \u001b[0misinstance\u001b[0m\u001b[0;34m(\u001b[0m\u001b[0mbatch_outs\u001b[0m\u001b[0;34m,\u001b[0m \u001b[0mlist\u001b[0m\u001b[0;34m)\u001b[0m\u001b[0;34m:\u001b[0m\u001b[0;34m\u001b[0m\u001b[0;34m\u001b[0m\u001b[0m\n\u001b[1;32m    394\u001b[0m                 \u001b[0;32mif\u001b[0m \u001b[0mbatch_index\u001b[0m \u001b[0;34m==\u001b[0m \u001b[0;36m0\u001b[0m\u001b[0;34m:\u001b[0m\u001b[0;34m\u001b[0m\u001b[0;34m\u001b[0m\u001b[0m\n",
            "\u001b[0;32m/usr/local/lib/python3.6/dist-packages/keras/backend/tensorflow_backend.py\u001b[0m in \u001b[0;36m__call__\u001b[0;34m(self, inputs)\u001b[0m\n\u001b[1;32m   2713\u001b[0m                 \u001b[0;32mreturn\u001b[0m \u001b[0mself\u001b[0m\u001b[0;34m.\u001b[0m\u001b[0m_legacy_call\u001b[0m\u001b[0;34m(\u001b[0m\u001b[0minputs\u001b[0m\u001b[0;34m)\u001b[0m\u001b[0;34m\u001b[0m\u001b[0;34m\u001b[0m\u001b[0m\n\u001b[1;32m   2714\u001b[0m \u001b[0;34m\u001b[0m\u001b[0m\n\u001b[0;32m-> 2715\u001b[0;31m             \u001b[0;32mreturn\u001b[0m \u001b[0mself\u001b[0m\u001b[0;34m.\u001b[0m\u001b[0m_call\u001b[0m\u001b[0;34m(\u001b[0m\u001b[0minputs\u001b[0m\u001b[0;34m)\u001b[0m\u001b[0;34m\u001b[0m\u001b[0;34m\u001b[0m\u001b[0m\n\u001b[0m\u001b[1;32m   2716\u001b[0m         \u001b[0;32melse\u001b[0m\u001b[0;34m:\u001b[0m\u001b[0;34m\u001b[0m\u001b[0;34m\u001b[0m\u001b[0m\n\u001b[1;32m   2717\u001b[0m             \u001b[0;32mif\u001b[0m \u001b[0mpy_any\u001b[0m\u001b[0;34m(\u001b[0m\u001b[0mis_tensor\u001b[0m\u001b[0;34m(\u001b[0m\u001b[0mx\u001b[0m\u001b[0;34m)\u001b[0m \u001b[0;32mfor\u001b[0m \u001b[0mx\u001b[0m \u001b[0;32min\u001b[0m \u001b[0minputs\u001b[0m\u001b[0;34m)\u001b[0m\u001b[0;34m:\u001b[0m\u001b[0;34m\u001b[0m\u001b[0;34m\u001b[0m\u001b[0m\n",
            "\u001b[0;32m/usr/local/lib/python3.6/dist-packages/keras/backend/tensorflow_backend.py\u001b[0m in \u001b[0;36m_call\u001b[0;34m(self, inputs)\u001b[0m\n\u001b[1;32m   2673\u001b[0m             \u001b[0mfetched\u001b[0m \u001b[0;34m=\u001b[0m \u001b[0mself\u001b[0m\u001b[0;34m.\u001b[0m\u001b[0m_callable_fn\u001b[0m\u001b[0;34m(\u001b[0m\u001b[0;34m*\u001b[0m\u001b[0marray_vals\u001b[0m\u001b[0;34m,\u001b[0m \u001b[0mrun_metadata\u001b[0m\u001b[0;34m=\u001b[0m\u001b[0mself\u001b[0m\u001b[0;34m.\u001b[0m\u001b[0mrun_metadata\u001b[0m\u001b[0;34m)\u001b[0m\u001b[0;34m\u001b[0m\u001b[0;34m\u001b[0m\u001b[0m\n\u001b[1;32m   2674\u001b[0m         \u001b[0;32melse\u001b[0m\u001b[0;34m:\u001b[0m\u001b[0;34m\u001b[0m\u001b[0;34m\u001b[0m\u001b[0m\n\u001b[0;32m-> 2675\u001b[0;31m             \u001b[0mfetched\u001b[0m \u001b[0;34m=\u001b[0m \u001b[0mself\u001b[0m\u001b[0;34m.\u001b[0m\u001b[0m_callable_fn\u001b[0m\u001b[0;34m(\u001b[0m\u001b[0;34m*\u001b[0m\u001b[0marray_vals\u001b[0m\u001b[0;34m)\u001b[0m\u001b[0;34m\u001b[0m\u001b[0;34m\u001b[0m\u001b[0m\n\u001b[0m\u001b[1;32m   2676\u001b[0m         \u001b[0;32mreturn\u001b[0m \u001b[0mfetched\u001b[0m\u001b[0;34m[\u001b[0m\u001b[0;34m:\u001b[0m\u001b[0mlen\u001b[0m\u001b[0;34m(\u001b[0m\u001b[0mself\u001b[0m\u001b[0;34m.\u001b[0m\u001b[0moutputs\u001b[0m\u001b[0;34m)\u001b[0m\u001b[0;34m]\u001b[0m\u001b[0;34m\u001b[0m\u001b[0;34m\u001b[0m\u001b[0m\n\u001b[1;32m   2677\u001b[0m \u001b[0;34m\u001b[0m\u001b[0m\n",
            "\u001b[0;32m/usr/local/lib/python3.6/dist-packages/tensorflow/python/client/session.py\u001b[0m in \u001b[0;36m__call__\u001b[0;34m(self, *args, **kwargs)\u001b[0m\n\u001b[1;32m   1437\u001b[0m           ret = tf_session.TF_SessionRunCallable(\n\u001b[1;32m   1438\u001b[0m               \u001b[0mself\u001b[0m\u001b[0;34m.\u001b[0m\u001b[0m_session\u001b[0m\u001b[0;34m.\u001b[0m\u001b[0m_session\u001b[0m\u001b[0;34m,\u001b[0m \u001b[0mself\u001b[0m\u001b[0;34m.\u001b[0m\u001b[0m_handle\u001b[0m\u001b[0;34m,\u001b[0m \u001b[0margs\u001b[0m\u001b[0;34m,\u001b[0m \u001b[0mstatus\u001b[0m\u001b[0;34m,\u001b[0m\u001b[0;34m\u001b[0m\u001b[0;34m\u001b[0m\u001b[0m\n\u001b[0;32m-> 1439\u001b[0;31m               run_metadata_ptr)\n\u001b[0m\u001b[1;32m   1440\u001b[0m         \u001b[0;32mif\u001b[0m \u001b[0mrun_metadata\u001b[0m\u001b[0;34m:\u001b[0m\u001b[0;34m\u001b[0m\u001b[0;34m\u001b[0m\u001b[0m\n\u001b[1;32m   1441\u001b[0m           \u001b[0mproto_data\u001b[0m \u001b[0;34m=\u001b[0m \u001b[0mtf_session\u001b[0m\u001b[0;34m.\u001b[0m\u001b[0mTF_GetBuffer\u001b[0m\u001b[0;34m(\u001b[0m\u001b[0mrun_metadata_ptr\u001b[0m\u001b[0;34m)\u001b[0m\u001b[0;34m\u001b[0m\u001b[0;34m\u001b[0m\u001b[0m\n",
            "\u001b[0;31mKeyboardInterrupt\u001b[0m: "
          ]
        }
      ]
    },
    {
      "metadata": {
        "id": "h6rlMISc6Ut5",
        "colab_type": "code",
        "colab": {
          "base_uri": "https://localhost:8080/",
          "height": 694
        },
        "outputId": "c110a833-2893-4c19-ca67-4115546404dc"
      },
      "cell_type": "code",
      "source": [
        "from keras.layers import Dense, Dropout, LSTM, Embedding\n",
        "from keras.preprocessing.sequence import pad_sequences\n",
        "from keras.models import Sequential\n",
        "import pandas as pd\n",
        "import numpy as np\n",
        "\n",
        "'''\n",
        "input_file = 'input.csv'\n",
        "\n",
        "def load_data(test_split = 0.2):\n",
        "    print ('Loading data...')\n",
        "    df = pd.read_csv(input_file)\n",
        "    df['sequence'] = df['sequence'].apply(lambda x: [int(e) for e in x.split()])\n",
        "    df = df.reindex(np.random.permutation(df.index))\n",
        "\n",
        "    train_size = int(len(df) * (1 - test_split))\n",
        "\n",
        "    X_train = df['sequence'].values[:train_size]\n",
        "    y_train = np.array(df['target'].values[:train_size])\n",
        "    X_test = np.array(df['sequence'].values[train_size:])\n",
        "    y_test = np.array(df['target'].values[train_size:])\n",
        "\n",
        "    return pad_sequences(X_train), y_train, pad_sequences(X_test), y_test\n",
        "\n",
        "'''\n",
        "\n",
        "(X_d1_Aug_pl, y_d1_Aug_pl)\n",
        "\n",
        "\n",
        "# input dim\n",
        "def create_model(input_length):\n",
        "    print ('Creating model...')\n",
        "    model = Sequential()\n",
        "    model.add(Embedding(input_dim = 190, output_dim = 50, input_length = input_length))\n",
        "    model.add(LSTM(output_dim=128, activation='sigmoid', inner_activation='hard_sigmoid', return_sequences=True))\n",
        "    model.add(Dropout(0.5))\n",
        "    model.add(LSTM(output_dim=128, activation='sigmoid', inner_activation='hard_sigmoid'))\n",
        "    model.add(Dropout(0.5))\n",
        "    model.add(Dense(1, activation='sigmoid'))\n",
        "\n",
        "    print ('Compiling...')\n",
        "    model.compile(loss='binary_crossentropy',\n",
        "                  optimizer='rmsprop',\n",
        "                  metrics=['accuracy'])\n",
        "    return model\n",
        "\n",
        "X_train = np.asarray(X_d1_Aug_pl[: 5000])\n",
        "# X = numpy.reshape(dataX, (len(dataX), seq_length, 1))\n",
        "X_train = np.reshape(X_train, (len(X_train), 1 ,190)) #seqlen = 30\n",
        "\n",
        "X_test = np.asarray(X_d1_Aug_pl[5000:])\n",
        "X_test = np.reshape(X_test, (len(X_test), 1 ,190)) #seqlen = 30\n",
        "\n",
        "y_train = y_d1_Aug_pl[: 5000]\n",
        "y_test = y_d1_Aug_pl[5000:]\n",
        "\n",
        "model = create_model(len(X_train[0]))\n",
        "\n",
        "print ('Fitting model...')\n",
        "hist = model.fit(X_train, y_train, batch_size=64, epochs=2, validation_split = 0.1, verbose = 1)\n",
        "\n",
        "score, acc = model.evaluate(X_test, y_test, batch_size=1)\n",
        "print('Test score:', score)\n",
        "print('Test accuracy:', acc)"
      ],
      "execution_count": 37,
      "outputs": [
        {
          "output_type": "stream",
          "text": [
            "Creating model...\n"
          ],
          "name": "stdout"
        },
        {
          "output_type": "stream",
          "text": [
            "/usr/local/lib/python3.6/dist-packages/ipykernel_launcher.py:35: UserWarning: Update your `LSTM` call to the Keras 2 API: `LSTM(activation=\"sigmoid\", return_sequences=True, units=128, recurrent_activation=\"hard_sigmoid\")`\n",
            "/usr/local/lib/python3.6/dist-packages/ipykernel_launcher.py:37: UserWarning: Update your `LSTM` call to the Keras 2 API: `LSTM(activation=\"sigmoid\", units=128, recurrent_activation=\"hard_sigmoid\")`\n"
          ],
          "name": "stderr"
        },
        {
          "output_type": "stream",
          "text": [
            "Compiling...\n",
            "Fitting model...\n"
          ],
          "name": "stdout"
        },
        {
          "output_type": "error",
          "ename": "ValueError",
          "evalue": "ignored",
          "traceback": [
            "\u001b[0;31m---------------------------------------------------------------------------\u001b[0m",
            "\u001b[0;31mValueError\u001b[0m                                Traceback (most recent call last)",
            "\u001b[0;32m<ipython-input-37-72140d3c6a9f>\u001b[0m in \u001b[0;36m<module>\u001b[0;34m()\u001b[0m\n\u001b[1;32m     58\u001b[0m \u001b[0;34m\u001b[0m\u001b[0m\n\u001b[1;32m     59\u001b[0m \u001b[0mprint\u001b[0m \u001b[0;34m(\u001b[0m\u001b[0;34m'Fitting model...'\u001b[0m\u001b[0;34m)\u001b[0m\u001b[0;34m\u001b[0m\u001b[0;34m\u001b[0m\u001b[0m\n\u001b[0;32m---> 60\u001b[0;31m \u001b[0mhist\u001b[0m \u001b[0;34m=\u001b[0m \u001b[0mmodel\u001b[0m\u001b[0;34m.\u001b[0m\u001b[0mfit\u001b[0m\u001b[0;34m(\u001b[0m\u001b[0mX_train\u001b[0m\u001b[0;34m,\u001b[0m \u001b[0my_train\u001b[0m\u001b[0;34m,\u001b[0m \u001b[0mbatch_size\u001b[0m\u001b[0;34m=\u001b[0m\u001b[0;36m64\u001b[0m\u001b[0;34m,\u001b[0m \u001b[0mepochs\u001b[0m\u001b[0;34m=\u001b[0m\u001b[0;36m2\u001b[0m\u001b[0;34m,\u001b[0m \u001b[0mvalidation_split\u001b[0m \u001b[0;34m=\u001b[0m \u001b[0;36m0.1\u001b[0m\u001b[0;34m,\u001b[0m \u001b[0mverbose\u001b[0m \u001b[0;34m=\u001b[0m \u001b[0;36m1\u001b[0m\u001b[0;34m)\u001b[0m\u001b[0;34m\u001b[0m\u001b[0;34m\u001b[0m\u001b[0m\n\u001b[0m\u001b[1;32m     61\u001b[0m \u001b[0;34m\u001b[0m\u001b[0m\n\u001b[1;32m     62\u001b[0m \u001b[0mscore\u001b[0m\u001b[0;34m,\u001b[0m \u001b[0macc\u001b[0m \u001b[0;34m=\u001b[0m \u001b[0mmodel\u001b[0m\u001b[0;34m.\u001b[0m\u001b[0mevaluate\u001b[0m\u001b[0;34m(\u001b[0m\u001b[0mX_test\u001b[0m\u001b[0;34m,\u001b[0m \u001b[0my_test\u001b[0m\u001b[0;34m,\u001b[0m \u001b[0mbatch_size\u001b[0m\u001b[0;34m=\u001b[0m\u001b[0;36m1\u001b[0m\u001b[0;34m)\u001b[0m\u001b[0;34m\u001b[0m\u001b[0;34m\u001b[0m\u001b[0m\n",
            "\u001b[0;32m/usr/local/lib/python3.6/dist-packages/keras/engine/training.py\u001b[0m in \u001b[0;36mfit\u001b[0;34m(self, x, y, batch_size, epochs, verbose, callbacks, validation_split, validation_data, shuffle, class_weight, sample_weight, initial_epoch, steps_per_epoch, validation_steps, **kwargs)\u001b[0m\n\u001b[1;32m    950\u001b[0m             \u001b[0msample_weight\u001b[0m\u001b[0;34m=\u001b[0m\u001b[0msample_weight\u001b[0m\u001b[0;34m,\u001b[0m\u001b[0;34m\u001b[0m\u001b[0;34m\u001b[0m\u001b[0m\n\u001b[1;32m    951\u001b[0m             \u001b[0mclass_weight\u001b[0m\u001b[0;34m=\u001b[0m\u001b[0mclass_weight\u001b[0m\u001b[0;34m,\u001b[0m\u001b[0;34m\u001b[0m\u001b[0;34m\u001b[0m\u001b[0m\n\u001b[0;32m--> 952\u001b[0;31m             batch_size=batch_size)\n\u001b[0m\u001b[1;32m    953\u001b[0m         \u001b[0;31m# Prepare validation data.\u001b[0m\u001b[0;34m\u001b[0m\u001b[0;34m\u001b[0m\u001b[0;34m\u001b[0m\u001b[0m\n\u001b[1;32m    954\u001b[0m         \u001b[0mdo_validation\u001b[0m \u001b[0;34m=\u001b[0m \u001b[0;32mFalse\u001b[0m\u001b[0;34m\u001b[0m\u001b[0;34m\u001b[0m\u001b[0m\n",
            "\u001b[0;32m/usr/local/lib/python3.6/dist-packages/keras/engine/training.py\u001b[0m in \u001b[0;36m_standardize_user_data\u001b[0;34m(self, x, y, sample_weight, class_weight, check_array_lengths, batch_size)\u001b[0m\n\u001b[1;32m    749\u001b[0m             \u001b[0mfeed_input_shapes\u001b[0m\u001b[0;34m,\u001b[0m\u001b[0;34m\u001b[0m\u001b[0;34m\u001b[0m\u001b[0m\n\u001b[1;32m    750\u001b[0m             \u001b[0mcheck_batch_axis\u001b[0m\u001b[0;34m=\u001b[0m\u001b[0;32mFalse\u001b[0m\u001b[0;34m,\u001b[0m  \u001b[0;31m# Don't enforce the batch size.\u001b[0m\u001b[0;34m\u001b[0m\u001b[0;34m\u001b[0m\u001b[0m\n\u001b[0;32m--> 751\u001b[0;31m             exception_prefix='input')\n\u001b[0m\u001b[1;32m    752\u001b[0m \u001b[0;34m\u001b[0m\u001b[0m\n\u001b[1;32m    753\u001b[0m         \u001b[0;32mif\u001b[0m \u001b[0my\u001b[0m \u001b[0;32mis\u001b[0m \u001b[0;32mnot\u001b[0m \u001b[0;32mNone\u001b[0m\u001b[0;34m:\u001b[0m\u001b[0;34m\u001b[0m\u001b[0;34m\u001b[0m\u001b[0m\n",
            "\u001b[0;32m/usr/local/lib/python3.6/dist-packages/keras/engine/training_utils.py\u001b[0m in \u001b[0;36mstandardize_input_data\u001b[0;34m(data, names, shapes, check_batch_axis, exception_prefix)\u001b[0m\n\u001b[1;32m    126\u001b[0m                         \u001b[0;34m': expected '\u001b[0m \u001b[0;34m+\u001b[0m \u001b[0mnames\u001b[0m\u001b[0;34m[\u001b[0m\u001b[0mi\u001b[0m\u001b[0;34m]\u001b[0m \u001b[0;34m+\u001b[0m \u001b[0;34m' to have '\u001b[0m \u001b[0;34m+\u001b[0m\u001b[0;34m\u001b[0m\u001b[0;34m\u001b[0m\u001b[0m\n\u001b[1;32m    127\u001b[0m                         \u001b[0mstr\u001b[0m\u001b[0;34m(\u001b[0m\u001b[0mlen\u001b[0m\u001b[0;34m(\u001b[0m\u001b[0mshape\u001b[0m\u001b[0;34m)\u001b[0m\u001b[0;34m)\u001b[0m \u001b[0;34m+\u001b[0m \u001b[0;34m' dimensions, but got array '\u001b[0m\u001b[0;34m\u001b[0m\u001b[0;34m\u001b[0m\u001b[0m\n\u001b[0;32m--> 128\u001b[0;31m                         'with shape ' + str(data_shape))\n\u001b[0m\u001b[1;32m    129\u001b[0m                 \u001b[0;32mif\u001b[0m \u001b[0;32mnot\u001b[0m \u001b[0mcheck_batch_axis\u001b[0m\u001b[0;34m:\u001b[0m\u001b[0;34m\u001b[0m\u001b[0;34m\u001b[0m\u001b[0m\n\u001b[1;32m    130\u001b[0m                     \u001b[0mdata_shape\u001b[0m \u001b[0;34m=\u001b[0m \u001b[0mdata_shape\u001b[0m\u001b[0;34m[\u001b[0m\u001b[0;36m1\u001b[0m\u001b[0;34m:\u001b[0m\u001b[0;34m]\u001b[0m\u001b[0;34m\u001b[0m\u001b[0;34m\u001b[0m\u001b[0m\n",
            "\u001b[0;31mValueError\u001b[0m: Error when checking input: expected embedding_8_input to have 2 dimensions, but got array with shape (5000, 1, 190)"
          ]
        }
      ]
    },
    {
      "metadata": {
        "id": "cOCtJ4i4J1O1",
        "colab_type": "code",
        "colab": {}
      },
      "cell_type": "code",
      "source": [
        "from keras.layers import Dense, Dropout, LSTM, Embedding\n",
        "from keras.preprocessing.sequence import pad_sequences\n",
        "from keras.models import Sequential\n",
        "import pandas as pd\n",
        "import numpy as np\n",
        "\n",
        "(X_d1_Aug_pl, y_d1_Aug_pl)\n",
        "\n",
        "\n",
        "# input dim\n",
        "'''\n",
        "def create_model(input_length):\n",
        "    print ('Creating model...')\n",
        "    model = Sequential()\n",
        "    model.add(Embedding(input_dim = 190, output_dim = 50, input_length = input_length))\n",
        "    model.add(LSTM(output_dim=128, activation='sigmoid', inner_activation='hard_sigmoid', return_sequences=True))\n",
        "    model.add(Dropout(0.5))\n",
        "    model.add(LSTM(output_dim=128, activation='sigmoid', inner_activation='hard_sigmoid'))\n",
        "    model.add(Dropout(0.5))\n",
        "    model.add(Dense(1, activation='sigmoid'))\n",
        "\n",
        "    print ('Compiling...')\n",
        "    model.compile(loss='binary_crossentropy',\n",
        "                  optimizer='rmsprop',\n",
        "                  metrics=['accuracy'])\n",
        "    return model\n",
        "''' \n",
        "X_train = np.asarray(X_d1_Aug_pl[: 5000])\n",
        "# X = numpy.reshape(dataX, (len(dataX), seq_length, 1))\n",
        "#X_train = np.reshape(X_train, (len(X_train), 1 ,190)) #seqlen = 30\n",
        "\n",
        "X_test = np.asarray(X_d1_Aug_pl[5000:])\n",
        "#X_test = np.reshape(X_test, (len(X_test), 1 ,190)) #seqlen = 30\n",
        "\n",
        "y_train = y_d1_Aug_pl[: 5000]\n",
        "y_test = y_d1_Aug_pl[5000:]\n",
        "\n",
        "\n",
        "\n",
        "max_features = 1024\n",
        "\n",
        "model = Sequential()\n",
        "model.add(Embedding(max_features, output_dim=256))\n",
        "model.add(LSTM(128))\n",
        "model.add(Dropout(0.5))\n",
        "model.add(Dense(1, activation='sigmoid'))\n",
        "\n",
        "model.compile(loss='binary_crossentropy',\n",
        "              optimizer='rmsprop',\n",
        "              metrics=['accuracy'])\n",
        "\n",
        "model.fit(X_train, y_train, batch_size=16, epochs=10)\n",
        "score, acc = model.evaluate(X_test, y_test, batch_size=16)\n",
        "\n",
        "print('Test score:', score)\n",
        "print('Test accuracy:', acc)"
      ],
      "execution_count": 0,
      "outputs": []
    },
    {
      "metadata": {
        "id": "gMfLO0KuLuX4",
        "colab_type": "code",
        "colab": {
          "base_uri": "https://localhost:8080/",
          "height": 592
        },
        "outputId": "92b6381a-4a2a-49a4-df4b-40b50a7f4617"
      },
      "cell_type": "code",
      "source": [
        "from keras.layers import Dense, Dropout, LSTM, Embedding\n",
        "from keras.preprocessing.sequence import pad_sequences\n",
        "from keras.models import Sequential\n",
        "import pandas as pd\n",
        "import numpy as np\n",
        "\n",
        "(X_d1_Aug_pl, y_d1_Aug_pl)\n",
        "\n",
        "\n",
        "\n",
        "data_dim = 190\n",
        "timesteps = 1\n",
        "num_classes = 2\n",
        "\n",
        "# expected input data shape: (batch_size, timesteps, data_dim)\n",
        "model = Sequential()\n",
        "model.add(LSTM(32, return_sequences=True,\n",
        "               input_shape=(timesteps, data_dim)))  # returns a sequence of vectors of dimension 32\n",
        "model.add(LSTM(32, return_sequences=True))  # returns a sequence of vectors of dimension 32\n",
        "model.add(LSTM(32))  # return a single vector of dimension 32\n",
        "model.add(Dense(2, activation='softmax'))\n",
        "\n",
        "model.compile(loss='categorical_crossentropy',\n",
        "              optimizer='rmsprop',\n",
        "              metrics=['accuracy'])\n",
        "\n",
        "\n",
        "X_train = np.asarray(X_d1_Aug_pl[: 5000])\n",
        "X_train = np.reshape(len(X_train), 1 ,190) #seqlen = 30\n",
        "\n",
        "X_test = np.asarray(X_d1_Aug_pl[5000:])\n",
        "X_test = np.reshape(len(X_test), 1 ,190) #seqlen = 30\n",
        "\n",
        "print(X_train)\n",
        "\n",
        "\n",
        "y_train = np.asarray(y_d1_Aug_pl[: 5000])\n",
        "y_test = np.asarray(y_d1_Aug_pl[5000: ])\n",
        "\n",
        "\n",
        "y_train = np.reshape(len(y_train), 1)\n",
        "y_test = np.reshape(len(y_test), 1)\n",
        "\n",
        "\n",
        "model.fit(X_train, y_train,\n",
        "          batch_size=64, epochs=5,\n",
        "          validation_data=(X_test, y_test))"
      ],
      "execution_count": 56,
      "outputs": [
        {
          "output_type": "stream",
          "text": [
            "[5000]\n"
          ],
          "name": "stdout"
        },
        {
          "output_type": "error",
          "ename": "ValueError",
          "evalue": "ignored",
          "traceback": [
            "\u001b[0;31m---------------------------------------------------------------------------\u001b[0m",
            "\u001b[0;31mValueError\u001b[0m                                Traceback (most recent call last)",
            "\u001b[0;32m<ipython-input-56-55ab97461c8d>\u001b[0m in \u001b[0;36m<module>\u001b[0;34m()\u001b[0m\n\u001b[1;32m     45\u001b[0m model.fit(X_train, y_train,\n\u001b[1;32m     46\u001b[0m           \u001b[0mbatch_size\u001b[0m\u001b[0;34m=\u001b[0m\u001b[0;36m64\u001b[0m\u001b[0;34m,\u001b[0m \u001b[0mepochs\u001b[0m\u001b[0;34m=\u001b[0m\u001b[0;36m5\u001b[0m\u001b[0;34m,\u001b[0m\u001b[0;34m\u001b[0m\u001b[0;34m\u001b[0m\u001b[0m\n\u001b[0;32m---> 47\u001b[0;31m           validation_data=(X_test, y_test))\n\u001b[0m",
            "\u001b[0;32m/usr/local/lib/python3.6/dist-packages/keras/engine/training.py\u001b[0m in \u001b[0;36mfit\u001b[0;34m(self, x, y, batch_size, epochs, verbose, callbacks, validation_split, validation_data, shuffle, class_weight, sample_weight, initial_epoch, steps_per_epoch, validation_steps, **kwargs)\u001b[0m\n\u001b[1;32m    950\u001b[0m             \u001b[0msample_weight\u001b[0m\u001b[0;34m=\u001b[0m\u001b[0msample_weight\u001b[0m\u001b[0;34m,\u001b[0m\u001b[0;34m\u001b[0m\u001b[0;34m\u001b[0m\u001b[0m\n\u001b[1;32m    951\u001b[0m             \u001b[0mclass_weight\u001b[0m\u001b[0;34m=\u001b[0m\u001b[0mclass_weight\u001b[0m\u001b[0;34m,\u001b[0m\u001b[0;34m\u001b[0m\u001b[0;34m\u001b[0m\u001b[0m\n\u001b[0;32m--> 952\u001b[0;31m             batch_size=batch_size)\n\u001b[0m\u001b[1;32m    953\u001b[0m         \u001b[0;31m# Prepare validation data.\u001b[0m\u001b[0;34m\u001b[0m\u001b[0;34m\u001b[0m\u001b[0;34m\u001b[0m\u001b[0m\n\u001b[1;32m    954\u001b[0m         \u001b[0mdo_validation\u001b[0m \u001b[0;34m=\u001b[0m \u001b[0;32mFalse\u001b[0m\u001b[0;34m\u001b[0m\u001b[0;34m\u001b[0m\u001b[0m\n",
            "\u001b[0;32m/usr/local/lib/python3.6/dist-packages/keras/engine/training.py\u001b[0m in \u001b[0;36m_standardize_user_data\u001b[0;34m(self, x, y, sample_weight, class_weight, check_array_lengths, batch_size)\u001b[0m\n\u001b[1;32m    749\u001b[0m             \u001b[0mfeed_input_shapes\u001b[0m\u001b[0;34m,\u001b[0m\u001b[0;34m\u001b[0m\u001b[0;34m\u001b[0m\u001b[0m\n\u001b[1;32m    750\u001b[0m             \u001b[0mcheck_batch_axis\u001b[0m\u001b[0;34m=\u001b[0m\u001b[0;32mFalse\u001b[0m\u001b[0;34m,\u001b[0m  \u001b[0;31m# Don't enforce the batch size.\u001b[0m\u001b[0;34m\u001b[0m\u001b[0;34m\u001b[0m\u001b[0m\n\u001b[0;32m--> 751\u001b[0;31m             exception_prefix='input')\n\u001b[0m\u001b[1;32m    752\u001b[0m \u001b[0;34m\u001b[0m\u001b[0m\n\u001b[1;32m    753\u001b[0m         \u001b[0;32mif\u001b[0m \u001b[0my\u001b[0m \u001b[0;32mis\u001b[0m \u001b[0;32mnot\u001b[0m \u001b[0;32mNone\u001b[0m\u001b[0;34m:\u001b[0m\u001b[0;34m\u001b[0m\u001b[0;34m\u001b[0m\u001b[0m\n",
            "\u001b[0;32m/usr/local/lib/python3.6/dist-packages/keras/engine/training_utils.py\u001b[0m in \u001b[0;36mstandardize_input_data\u001b[0;34m(data, names, shapes, check_batch_axis, exception_prefix)\u001b[0m\n\u001b[1;32m    126\u001b[0m                         \u001b[0;34m': expected '\u001b[0m \u001b[0;34m+\u001b[0m \u001b[0mnames\u001b[0m\u001b[0;34m[\u001b[0m\u001b[0mi\u001b[0m\u001b[0;34m]\u001b[0m \u001b[0;34m+\u001b[0m \u001b[0;34m' to have '\u001b[0m \u001b[0;34m+\u001b[0m\u001b[0;34m\u001b[0m\u001b[0;34m\u001b[0m\u001b[0m\n\u001b[1;32m    127\u001b[0m                         \u001b[0mstr\u001b[0m\u001b[0;34m(\u001b[0m\u001b[0mlen\u001b[0m\u001b[0;34m(\u001b[0m\u001b[0mshape\u001b[0m\u001b[0;34m)\u001b[0m\u001b[0;34m)\u001b[0m \u001b[0;34m+\u001b[0m \u001b[0;34m' dimensions, but got array '\u001b[0m\u001b[0;34m\u001b[0m\u001b[0;34m\u001b[0m\u001b[0m\n\u001b[0;32m--> 128\u001b[0;31m                         'with shape ' + str(data_shape))\n\u001b[0m\u001b[1;32m    129\u001b[0m                 \u001b[0;32mif\u001b[0m \u001b[0;32mnot\u001b[0m \u001b[0mcheck_batch_axis\u001b[0m\u001b[0;34m:\u001b[0m\u001b[0;34m\u001b[0m\u001b[0;34m\u001b[0m\u001b[0m\n\u001b[1;32m    130\u001b[0m                     \u001b[0mdata_shape\u001b[0m \u001b[0;34m=\u001b[0m \u001b[0mdata_shape\u001b[0m\u001b[0;34m[\u001b[0m\u001b[0;36m1\u001b[0m\u001b[0;34m:\u001b[0m\u001b[0;34m]\u001b[0m\u001b[0;34m\u001b[0m\u001b[0;34m\u001b[0m\u001b[0m\n",
            "\u001b[0;31mValueError\u001b[0m: Error when checking input: expected lstm_64_input to have 3 dimensions, but got array with shape (1, 1)"
          ]
        }
      ]
    },
    {
      "metadata": {
        "id": "oXOw_NEAkAtS",
        "colab_type": "code",
        "colab": {}
      },
      "cell_type": "code",
      "source": [
        ""
      ],
      "execution_count": 0,
      "outputs": []
    }
  ]
}